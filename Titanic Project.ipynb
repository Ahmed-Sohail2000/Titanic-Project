{
 "cells": [
  {
   "cell_type": "markdown",
   "id": "70633a63",
   "metadata": {},
   "source": [
    "# An End-To-End Machine Learning Project\n",
    "\n",
    "\n",
    "## Problem Definition\n",
    "\n",
    "The project is to predict which passengers suvived the Titanic Shipwreck. The challenge is to build a predictive model that answers the question: `What sorts of people were more likely to survive?` using passenger data, etc.\n",
    "\n",
    "* The overview of the 🚢 Titanic Project can be found here: https://www.kaggle.com/competitions/titanic/overview\n",
    "\n",
    "## Data\n",
    "\n",
    "The data has been split into 2 groups:\n",
    "\n",
    "* Training set (train.csv)\n",
    "* Test set (test.csv)\n",
    "\n",
    "**Training Set:** Should only be used in building machine learning models. For the training set, the outcome (ground truth) is provided for each passenger and your model will be based on `features` like gender and class. Feature engineering can also be used to create new features.\n",
    "\n",
    "**Test Set:** Should only be used to see how well your model performs on unseen data. The ground truth for each passenger is not given as it is your job to predict each passenger using the model you trained to determine whether or not they survived the sinking of the titanic.\n",
    "\n",
    "* The project data section can be found here: https://www.kaggle.com/competitions/titanic/data\n",
    "\n",
    "\n",
    "## Evaluation\n",
    "\n",
    "**Goal**\n",
    "\n",
    "To predict if a passenger survived the sinking of the titanic ship or not. For each in the test set, you must predict a 0 or 1 value for the variable.\n",
    "\n",
    "**Metric**\n",
    "\n",
    "Your score is the percentage of passengers you correctly predict. This is known as `accuracy`.\n",
    "\n",
    "**Submission**\n",
    "\n",
    "You should submit a csv file with exactly 418 entries plus a header row. Your submission will show an error if you have extra columns (beyond PassengerId and Survived) or rows.\n",
    "\n",
    "* The file should have exactly 2 columns:\n",
    "\n",
    "1) PassengerId (sorted in any order)\n",
    "2) Survived (contains your binary predictions: 1 for survived, 0 for deceased)\n",
    "\n",
    "**Example**\n",
    "* PassengerId,Survived\n",
    "* 892,0\n",
    "* 893,1\n",
    "* 894,0\n",
    "* Etc.\n",
    "\n",
    "## Features\n",
    "\n",
    "**Data Dictionary**\n",
    "\n",
    "`Variable`\t  `Definition`         `Key`\n",
    "1) survival\t   Survival\t        0 = No, 1 = Yes\n",
    "2) pclass\t   Ticket class\t    1 = 1st, 2 = 2nd, 3 = 3rd\n",
    "3) sex\t          Sex\t\n",
    "4) Age\t        Age in years\t\n",
    "5) sibsp\t   # of siblings / spouses aboard the Titanic\t\n",
    "6) parch\t   # of parents / children aboard the Titanic\t\n",
    "7) ticket\t   Ticket number\t\n",
    "8) fare\t       Passenger fare\t\n",
    "9) cabin\t   Cabin number\t\n",
    "10) embarked   Port of Embarkation\t    C = Cherbourg, Q = Queenstown, S = Southampton\n",
    "\n",
    "**Variable Notes**\n",
    "\n",
    "`pclass:` A proxy for socio-economic status (SES)\n",
    "1st = Upper\n",
    "2nd = Middle\n",
    "3rd = Lower\n",
    "\n",
    "`age:` Age is fractional if less than 1. If the age is estimated, is it in the form of xx.5\n",
    "\n",
    "`sibsp:` The dataset defines family relations in this way...\n",
    "`Sibling` = brother, sister, stepbrother, stepsister\n",
    "`Spouse` = husband, wife (mistresses and fiancés were ignored)\n",
    "\n",
    "`parch:` The dataset defines family relations in this way...\n",
    "`Parent` = mother, father\n",
    "`Child` = daughter, son, stepdaughter, stepson\n",
    "Some children travelled only with a nanny, therefore parch=0 for them.\n",
    "\n",
    "\n",
    "## Modelling\n",
    "\n",
    "## Experiments\n",
    "\n",
    "## Save & Load\n"
   ]
  },
  {
   "cell_type": "markdown",
   "id": "e9c4d74d",
   "metadata": {},
   "source": [
    "## 1.0 Preparing our Tools\n"
   ]
  },
  {
   "cell_type": "code",
   "execution_count": 62,
   "id": "cafbda36",
   "metadata": {},
   "outputs": [],
   "source": [
    "# First let's import the basic tools to get start with the project.\n",
    "import pandas as pd\n",
    "import numpy as np\n",
    "import matplotlib.pyplot as plt\n",
    "%matplotlib inline\n",
    "from matplotlib import style\n",
    "import seaborn as sns\n",
    "\n",
    "# Scikit-Learn Data Modelling/Processing Tools\n",
    "import sklearn\n",
    "from sklearn.model_selection import train_test_split\n",
    "from sklearn.impute import SimpleImputer\n",
    "from sklearn.compose import ColumnTransformer\n",
    "from sklearn.preprocessing import OneHotEncoder\n",
    "from sklearn.preprocessing import LabelEncoder\n",
    "\n",
    "# sklearn Model/Algorithm Tools\n",
    "from sklearn.svm import LinearSVC\n",
    "from sklearn.neighbors import KNeighborsClassifier\n",
    "from sklearn.ensemble import RandomForestClassifier\n",
    "\n",
    "# sklearn prediction tools\n",
    "from sklearn.metrics import accuracy_score\n",
    "from sklearn.metrics import mean_absolute_error\n",
    "\n",
    "# sklearn evaluation tools\n",
    "from sklearn.model_selection import cross_val_score\n",
    "from sklearn.model_selection import GridSearchCV\n",
    "\n",
    "# Classification Model Evaluation tools\n",
    "from sklearn.metrics import classification_report\n",
    "from sklearn.metrics import confusion_matrix\n",
    "from sklearn.metrics import ConfusionMatrixDisplay\n",
    "from sklearn.metrics import roc_curve, roc_auc_score\n",
    "\n",
    "# Scikit-Learn Evaluation Metrics for Classification \n",
    "from sklearn.metrics import accuracy_score, precision_score, recall_score, f1_score\n",
    "\n",
    "# Hyperparameter tuning tools\n",
    "from sklearn.model_selection import GridSearchCV"
   ]
  },
  {
   "cell_type": "markdown",
   "id": "fb6454f8",
   "metadata": {},
   "source": [
    "## 2.0 Getting Our Data Ready"
   ]
  },
  {
   "cell_type": "code",
   "execution_count": 2,
   "id": "abed81d9",
   "metadata": {},
   "outputs": [],
   "source": [
    "# Now import the train.csv\n",
    "passenger_data_train_df = pd.read_csv('Data/train.csv')\n",
    "\n",
    "# Import the test.csv\n",
    "passenger_data_test_df = pd.read_csv('Data/test.csv')"
   ]
  },
  {
   "cell_type": "code",
   "execution_count": 3,
   "id": "d7290ecd",
   "metadata": {},
   "outputs": [
    {
     "data": {
      "text/html": [
       "<div>\n",
       "<style scoped>\n",
       "    .dataframe tbody tr th:only-of-type {\n",
       "        vertical-align: middle;\n",
       "    }\n",
       "\n",
       "    .dataframe tbody tr th {\n",
       "        vertical-align: top;\n",
       "    }\n",
       "\n",
       "    .dataframe thead th {\n",
       "        text-align: right;\n",
       "    }\n",
       "</style>\n",
       "<table border=\"1\" class=\"dataframe\">\n",
       "  <thead>\n",
       "    <tr style=\"text-align: right;\">\n",
       "      <th></th>\n",
       "      <th>PassengerId</th>\n",
       "      <th>Survived</th>\n",
       "      <th>Pclass</th>\n",
       "      <th>Name</th>\n",
       "      <th>Sex</th>\n",
       "      <th>Age</th>\n",
       "      <th>SibSp</th>\n",
       "      <th>Parch</th>\n",
       "      <th>Ticket</th>\n",
       "      <th>Fare</th>\n",
       "      <th>Cabin</th>\n",
       "      <th>Embarked</th>\n",
       "    </tr>\n",
       "  </thead>\n",
       "  <tbody>\n",
       "    <tr>\n",
       "      <th>0</th>\n",
       "      <td>1</td>\n",
       "      <td>0</td>\n",
       "      <td>3</td>\n",
       "      <td>Braund, Mr. Owen Harris</td>\n",
       "      <td>male</td>\n",
       "      <td>22.0</td>\n",
       "      <td>1</td>\n",
       "      <td>0</td>\n",
       "      <td>A/5 21171</td>\n",
       "      <td>7.2500</td>\n",
       "      <td>NaN</td>\n",
       "      <td>S</td>\n",
       "    </tr>\n",
       "    <tr>\n",
       "      <th>1</th>\n",
       "      <td>2</td>\n",
       "      <td>1</td>\n",
       "      <td>1</td>\n",
       "      <td>Cumings, Mrs. John Bradley (Florence Briggs Th...</td>\n",
       "      <td>female</td>\n",
       "      <td>38.0</td>\n",
       "      <td>1</td>\n",
       "      <td>0</td>\n",
       "      <td>PC 17599</td>\n",
       "      <td>71.2833</td>\n",
       "      <td>C85</td>\n",
       "      <td>C</td>\n",
       "    </tr>\n",
       "    <tr>\n",
       "      <th>2</th>\n",
       "      <td>3</td>\n",
       "      <td>1</td>\n",
       "      <td>3</td>\n",
       "      <td>Heikkinen, Miss. Laina</td>\n",
       "      <td>female</td>\n",
       "      <td>26.0</td>\n",
       "      <td>0</td>\n",
       "      <td>0</td>\n",
       "      <td>STON/O2. 3101282</td>\n",
       "      <td>7.9250</td>\n",
       "      <td>NaN</td>\n",
       "      <td>S</td>\n",
       "    </tr>\n",
       "    <tr>\n",
       "      <th>3</th>\n",
       "      <td>4</td>\n",
       "      <td>1</td>\n",
       "      <td>1</td>\n",
       "      <td>Futrelle, Mrs. Jacques Heath (Lily May Peel)</td>\n",
       "      <td>female</td>\n",
       "      <td>35.0</td>\n",
       "      <td>1</td>\n",
       "      <td>0</td>\n",
       "      <td>113803</td>\n",
       "      <td>53.1000</td>\n",
       "      <td>C123</td>\n",
       "      <td>S</td>\n",
       "    </tr>\n",
       "    <tr>\n",
       "      <th>4</th>\n",
       "      <td>5</td>\n",
       "      <td>0</td>\n",
       "      <td>3</td>\n",
       "      <td>Allen, Mr. William Henry</td>\n",
       "      <td>male</td>\n",
       "      <td>35.0</td>\n",
       "      <td>0</td>\n",
       "      <td>0</td>\n",
       "      <td>373450</td>\n",
       "      <td>8.0500</td>\n",
       "      <td>NaN</td>\n",
       "      <td>S</td>\n",
       "    </tr>\n",
       "    <tr>\n",
       "      <th>...</th>\n",
       "      <td>...</td>\n",
       "      <td>...</td>\n",
       "      <td>...</td>\n",
       "      <td>...</td>\n",
       "      <td>...</td>\n",
       "      <td>...</td>\n",
       "      <td>...</td>\n",
       "      <td>...</td>\n",
       "      <td>...</td>\n",
       "      <td>...</td>\n",
       "      <td>...</td>\n",
       "      <td>...</td>\n",
       "    </tr>\n",
       "    <tr>\n",
       "      <th>886</th>\n",
       "      <td>887</td>\n",
       "      <td>0</td>\n",
       "      <td>2</td>\n",
       "      <td>Montvila, Rev. Juozas</td>\n",
       "      <td>male</td>\n",
       "      <td>27.0</td>\n",
       "      <td>0</td>\n",
       "      <td>0</td>\n",
       "      <td>211536</td>\n",
       "      <td>13.0000</td>\n",
       "      <td>NaN</td>\n",
       "      <td>S</td>\n",
       "    </tr>\n",
       "    <tr>\n",
       "      <th>887</th>\n",
       "      <td>888</td>\n",
       "      <td>1</td>\n",
       "      <td>1</td>\n",
       "      <td>Graham, Miss. Margaret Edith</td>\n",
       "      <td>female</td>\n",
       "      <td>19.0</td>\n",
       "      <td>0</td>\n",
       "      <td>0</td>\n",
       "      <td>112053</td>\n",
       "      <td>30.0000</td>\n",
       "      <td>B42</td>\n",
       "      <td>S</td>\n",
       "    </tr>\n",
       "    <tr>\n",
       "      <th>888</th>\n",
       "      <td>889</td>\n",
       "      <td>0</td>\n",
       "      <td>3</td>\n",
       "      <td>Johnston, Miss. Catherine Helen \"Carrie\"</td>\n",
       "      <td>female</td>\n",
       "      <td>NaN</td>\n",
       "      <td>1</td>\n",
       "      <td>2</td>\n",
       "      <td>W./C. 6607</td>\n",
       "      <td>23.4500</td>\n",
       "      <td>NaN</td>\n",
       "      <td>S</td>\n",
       "    </tr>\n",
       "    <tr>\n",
       "      <th>889</th>\n",
       "      <td>890</td>\n",
       "      <td>1</td>\n",
       "      <td>1</td>\n",
       "      <td>Behr, Mr. Karl Howell</td>\n",
       "      <td>male</td>\n",
       "      <td>26.0</td>\n",
       "      <td>0</td>\n",
       "      <td>0</td>\n",
       "      <td>111369</td>\n",
       "      <td>30.0000</td>\n",
       "      <td>C148</td>\n",
       "      <td>C</td>\n",
       "    </tr>\n",
       "    <tr>\n",
       "      <th>890</th>\n",
       "      <td>891</td>\n",
       "      <td>0</td>\n",
       "      <td>3</td>\n",
       "      <td>Dooley, Mr. Patrick</td>\n",
       "      <td>male</td>\n",
       "      <td>32.0</td>\n",
       "      <td>0</td>\n",
       "      <td>0</td>\n",
       "      <td>370376</td>\n",
       "      <td>7.7500</td>\n",
       "      <td>NaN</td>\n",
       "      <td>Q</td>\n",
       "    </tr>\n",
       "  </tbody>\n",
       "</table>\n",
       "<p>891 rows × 12 columns</p>\n",
       "</div>"
      ],
      "text/plain": [
       "     PassengerId  Survived  Pclass  \\\n",
       "0              1         0       3   \n",
       "1              2         1       1   \n",
       "2              3         1       3   \n",
       "3              4         1       1   \n",
       "4              5         0       3   \n",
       "..           ...       ...     ...   \n",
       "886          887         0       2   \n",
       "887          888         1       1   \n",
       "888          889         0       3   \n",
       "889          890         1       1   \n",
       "890          891         0       3   \n",
       "\n",
       "                                                  Name     Sex   Age  SibSp  \\\n",
       "0                              Braund, Mr. Owen Harris    male  22.0      1   \n",
       "1    Cumings, Mrs. John Bradley (Florence Briggs Th...  female  38.0      1   \n",
       "2                               Heikkinen, Miss. Laina  female  26.0      0   \n",
       "3         Futrelle, Mrs. Jacques Heath (Lily May Peel)  female  35.0      1   \n",
       "4                             Allen, Mr. William Henry    male  35.0      0   \n",
       "..                                                 ...     ...   ...    ...   \n",
       "886                              Montvila, Rev. Juozas    male  27.0      0   \n",
       "887                       Graham, Miss. Margaret Edith  female  19.0      0   \n",
       "888           Johnston, Miss. Catherine Helen \"Carrie\"  female   NaN      1   \n",
       "889                              Behr, Mr. Karl Howell    male  26.0      0   \n",
       "890                                Dooley, Mr. Patrick    male  32.0      0   \n",
       "\n",
       "     Parch            Ticket     Fare Cabin Embarked  \n",
       "0        0         A/5 21171   7.2500   NaN        S  \n",
       "1        0          PC 17599  71.2833   C85        C  \n",
       "2        0  STON/O2. 3101282   7.9250   NaN        S  \n",
       "3        0            113803  53.1000  C123        S  \n",
       "4        0            373450   8.0500   NaN        S  \n",
       "..     ...               ...      ...   ...      ...  \n",
       "886      0            211536  13.0000   NaN        S  \n",
       "887      0            112053  30.0000   B42        S  \n",
       "888      2        W./C. 6607  23.4500   NaN        S  \n",
       "889      0            111369  30.0000  C148        C  \n",
       "890      0            370376   7.7500   NaN        Q  \n",
       "\n",
       "[891 rows x 12 columns]"
      ]
     },
     "execution_count": 3,
     "metadata": {},
     "output_type": "execute_result"
    }
   ],
   "source": [
    "# View the training data\n",
    "passenger_data_train_df"
   ]
  },
  {
   "cell_type": "markdown",
   "id": "9aba078d",
   "metadata": {},
   "source": [
    "## 2.1 Data Exploratory Analysis (DEA)\n",
    "\n",
    "We are now going to perform analysis on the data to understand the characteristics and features of the passengers. To see whether our data contains missing values and what dtypes it is.\n"
   ]
  },
  {
   "cell_type": "code",
   "execution_count": 4,
   "id": "cbf078f3",
   "metadata": {},
   "outputs": [
    {
     "name": "stdout",
     "output_type": "stream",
     "text": [
      "<class 'pandas.core.frame.DataFrame'>\n",
      "RangeIndex: 891 entries, 0 to 890\n",
      "Data columns (total 12 columns):\n",
      " #   Column       Non-Null Count  Dtype  \n",
      "---  ------       --------------  -----  \n",
      " 0   PassengerId  891 non-null    int64  \n",
      " 1   Survived     891 non-null    int64  \n",
      " 2   Pclass       891 non-null    int64  \n",
      " 3   Name         891 non-null    object \n",
      " 4   Sex          891 non-null    object \n",
      " 5   Age          714 non-null    float64\n",
      " 6   SibSp        891 non-null    int64  \n",
      " 7   Parch        891 non-null    int64  \n",
      " 8   Ticket       891 non-null    object \n",
      " 9   Fare         891 non-null    float64\n",
      " 10  Cabin        204 non-null    object \n",
      " 11  Embarked     889 non-null    object \n",
      "dtypes: float64(2), int64(5), object(5)\n",
      "memory usage: 83.7+ KB\n"
     ]
    }
   ],
   "source": [
    "# Get the data info and its description\n",
    "passenger_data_train_df.info()"
   ]
  },
  {
   "cell_type": "code",
   "execution_count": 5,
   "id": "95dbacc4",
   "metadata": {},
   "outputs": [
    {
     "data": {
      "text/html": [
       "<div>\n",
       "<style scoped>\n",
       "    .dataframe tbody tr th:only-of-type {\n",
       "        vertical-align: middle;\n",
       "    }\n",
       "\n",
       "    .dataframe tbody tr th {\n",
       "        vertical-align: top;\n",
       "    }\n",
       "\n",
       "    .dataframe thead th {\n",
       "        text-align: right;\n",
       "    }\n",
       "</style>\n",
       "<table border=\"1\" class=\"dataframe\">\n",
       "  <thead>\n",
       "    <tr style=\"text-align: right;\">\n",
       "      <th></th>\n",
       "      <th>PassengerId</th>\n",
       "      <th>Survived</th>\n",
       "      <th>Pclass</th>\n",
       "      <th>Age</th>\n",
       "      <th>SibSp</th>\n",
       "      <th>Parch</th>\n",
       "      <th>Fare</th>\n",
       "    </tr>\n",
       "  </thead>\n",
       "  <tbody>\n",
       "    <tr>\n",
       "      <th>count</th>\n",
       "      <td>891.000000</td>\n",
       "      <td>891.000000</td>\n",
       "      <td>891.000000</td>\n",
       "      <td>714.000000</td>\n",
       "      <td>891.000000</td>\n",
       "      <td>891.000000</td>\n",
       "      <td>891.000000</td>\n",
       "    </tr>\n",
       "    <tr>\n",
       "      <th>mean</th>\n",
       "      <td>446.000000</td>\n",
       "      <td>0.383838</td>\n",
       "      <td>2.308642</td>\n",
       "      <td>29.699118</td>\n",
       "      <td>0.523008</td>\n",
       "      <td>0.381594</td>\n",
       "      <td>32.204208</td>\n",
       "    </tr>\n",
       "    <tr>\n",
       "      <th>std</th>\n",
       "      <td>257.353842</td>\n",
       "      <td>0.486592</td>\n",
       "      <td>0.836071</td>\n",
       "      <td>14.526497</td>\n",
       "      <td>1.102743</td>\n",
       "      <td>0.806057</td>\n",
       "      <td>49.693429</td>\n",
       "    </tr>\n",
       "    <tr>\n",
       "      <th>min</th>\n",
       "      <td>1.000000</td>\n",
       "      <td>0.000000</td>\n",
       "      <td>1.000000</td>\n",
       "      <td>0.420000</td>\n",
       "      <td>0.000000</td>\n",
       "      <td>0.000000</td>\n",
       "      <td>0.000000</td>\n",
       "    </tr>\n",
       "    <tr>\n",
       "      <th>25%</th>\n",
       "      <td>223.500000</td>\n",
       "      <td>0.000000</td>\n",
       "      <td>2.000000</td>\n",
       "      <td>20.125000</td>\n",
       "      <td>0.000000</td>\n",
       "      <td>0.000000</td>\n",
       "      <td>7.910400</td>\n",
       "    </tr>\n",
       "    <tr>\n",
       "      <th>50%</th>\n",
       "      <td>446.000000</td>\n",
       "      <td>0.000000</td>\n",
       "      <td>3.000000</td>\n",
       "      <td>28.000000</td>\n",
       "      <td>0.000000</td>\n",
       "      <td>0.000000</td>\n",
       "      <td>14.454200</td>\n",
       "    </tr>\n",
       "    <tr>\n",
       "      <th>75%</th>\n",
       "      <td>668.500000</td>\n",
       "      <td>1.000000</td>\n",
       "      <td>3.000000</td>\n",
       "      <td>38.000000</td>\n",
       "      <td>1.000000</td>\n",
       "      <td>0.000000</td>\n",
       "      <td>31.000000</td>\n",
       "    </tr>\n",
       "    <tr>\n",
       "      <th>max</th>\n",
       "      <td>891.000000</td>\n",
       "      <td>1.000000</td>\n",
       "      <td>3.000000</td>\n",
       "      <td>80.000000</td>\n",
       "      <td>8.000000</td>\n",
       "      <td>6.000000</td>\n",
       "      <td>512.329200</td>\n",
       "    </tr>\n",
       "  </tbody>\n",
       "</table>\n",
       "</div>"
      ],
      "text/plain": [
       "       PassengerId    Survived      Pclass         Age       SibSp  \\\n",
       "count   891.000000  891.000000  891.000000  714.000000  891.000000   \n",
       "mean    446.000000    0.383838    2.308642   29.699118    0.523008   \n",
       "std     257.353842    0.486592    0.836071   14.526497    1.102743   \n",
       "min       1.000000    0.000000    1.000000    0.420000    0.000000   \n",
       "25%     223.500000    0.000000    2.000000   20.125000    0.000000   \n",
       "50%     446.000000    0.000000    3.000000   28.000000    0.000000   \n",
       "75%     668.500000    1.000000    3.000000   38.000000    1.000000   \n",
       "max     891.000000    1.000000    3.000000   80.000000    8.000000   \n",
       "\n",
       "            Parch        Fare  \n",
       "count  891.000000  891.000000  \n",
       "mean     0.381594   32.204208  \n",
       "std      0.806057   49.693429  \n",
       "min      0.000000    0.000000  \n",
       "25%      0.000000    7.910400  \n",
       "50%      0.000000   14.454200  \n",
       "75%      0.000000   31.000000  \n",
       "max      6.000000  512.329200  "
      ]
     },
     "execution_count": 5,
     "metadata": {},
     "output_type": "execute_result"
    }
   ],
   "source": [
    "passenger_data_train_df.describe()"
   ]
  },
  {
   "cell_type": "code",
   "execution_count": 6,
   "id": "75dd2618",
   "metadata": {},
   "outputs": [
    {
     "data": {
      "text/plain": [
       "PassengerId      0\n",
       "Survived         0\n",
       "Pclass           0\n",
       "Name             0\n",
       "Sex              0\n",
       "Age            177\n",
       "SibSp            0\n",
       "Parch            0\n",
       "Ticket           0\n",
       "Fare             0\n",
       "Cabin          687\n",
       "Embarked         2\n",
       "dtype: int64"
      ]
     },
     "execution_count": 6,
     "metadata": {},
     "output_type": "execute_result"
    }
   ],
   "source": [
    "# Find out if there are any missing values and what type of data it is\n",
    "passenger_data_train_df.isna().sum()"
   ]
  },
  {
   "cell_type": "markdown",
   "id": "0136ad2e",
   "metadata": {},
   "source": [
    "As you can see, the `Age` and the `Cabin` columns contain missing values."
   ]
  },
  {
   "cell_type": "code",
   "execution_count": 7,
   "id": "b3f08e9e",
   "metadata": {},
   "outputs": [
    {
     "data": {
      "text/plain": [
       "PassengerId      int64\n",
       "Survived         int64\n",
       "Pclass           int64\n",
       "Name            object\n",
       "Sex             object\n",
       "Age            float64\n",
       "SibSp            int64\n",
       "Parch            int64\n",
       "Ticket          object\n",
       "Fare           float64\n",
       "Cabin           object\n",
       "Embarked        object\n",
       "dtype: object"
      ]
     },
     "execution_count": 7,
     "metadata": {},
     "output_type": "execute_result"
    }
   ],
   "source": [
    "passenger_data_train_df.dtypes"
   ]
  },
  {
   "cell_type": "code",
   "execution_count": 8,
   "id": "3e07c6d1",
   "metadata": {},
   "outputs": [
    {
     "data": {
      "text/html": [
       "<div>\n",
       "<style scoped>\n",
       "    .dataframe tbody tr th:only-of-type {\n",
       "        vertical-align: middle;\n",
       "    }\n",
       "\n",
       "    .dataframe tbody tr th {\n",
       "        vertical-align: top;\n",
       "    }\n",
       "\n",
       "    .dataframe thead th {\n",
       "        text-align: right;\n",
       "    }\n",
       "</style>\n",
       "<table border=\"1\" class=\"dataframe\">\n",
       "  <thead>\n",
       "    <tr style=\"text-align: right;\">\n",
       "      <th></th>\n",
       "      <th>PassengerId</th>\n",
       "      <th>Survived</th>\n",
       "      <th>Pclass</th>\n",
       "      <th>Name</th>\n",
       "      <th>Sex</th>\n",
       "      <th>Age</th>\n",
       "      <th>SibSp</th>\n",
       "      <th>Parch</th>\n",
       "      <th>Ticket</th>\n",
       "      <th>Fare</th>\n",
       "      <th>Cabin</th>\n",
       "      <th>Embarked</th>\n",
       "    </tr>\n",
       "  </thead>\n",
       "  <tbody>\n",
       "    <tr>\n",
       "      <th>0</th>\n",
       "      <td>1</td>\n",
       "      <td>0</td>\n",
       "      <td>3</td>\n",
       "      <td>Braund, Mr. Owen Harris</td>\n",
       "      <td>male</td>\n",
       "      <td>22.0</td>\n",
       "      <td>1</td>\n",
       "      <td>0</td>\n",
       "      <td>A/5 21171</td>\n",
       "      <td>7.2500</td>\n",
       "      <td>NaN</td>\n",
       "      <td>S</td>\n",
       "    </tr>\n",
       "    <tr>\n",
       "      <th>1</th>\n",
       "      <td>2</td>\n",
       "      <td>1</td>\n",
       "      <td>1</td>\n",
       "      <td>Cumings, Mrs. John Bradley (Florence Briggs Th...</td>\n",
       "      <td>female</td>\n",
       "      <td>38.0</td>\n",
       "      <td>1</td>\n",
       "      <td>0</td>\n",
       "      <td>PC 17599</td>\n",
       "      <td>71.2833</td>\n",
       "      <td>C85</td>\n",
       "      <td>C</td>\n",
       "    </tr>\n",
       "    <tr>\n",
       "      <th>2</th>\n",
       "      <td>3</td>\n",
       "      <td>1</td>\n",
       "      <td>3</td>\n",
       "      <td>Heikkinen, Miss. Laina</td>\n",
       "      <td>female</td>\n",
       "      <td>26.0</td>\n",
       "      <td>0</td>\n",
       "      <td>0</td>\n",
       "      <td>STON/O2. 3101282</td>\n",
       "      <td>7.9250</td>\n",
       "      <td>NaN</td>\n",
       "      <td>S</td>\n",
       "    </tr>\n",
       "    <tr>\n",
       "      <th>3</th>\n",
       "      <td>4</td>\n",
       "      <td>1</td>\n",
       "      <td>1</td>\n",
       "      <td>Futrelle, Mrs. Jacques Heath (Lily May Peel)</td>\n",
       "      <td>female</td>\n",
       "      <td>35.0</td>\n",
       "      <td>1</td>\n",
       "      <td>0</td>\n",
       "      <td>113803</td>\n",
       "      <td>53.1000</td>\n",
       "      <td>C123</td>\n",
       "      <td>S</td>\n",
       "    </tr>\n",
       "    <tr>\n",
       "      <th>4</th>\n",
       "      <td>5</td>\n",
       "      <td>0</td>\n",
       "      <td>3</td>\n",
       "      <td>Allen, Mr. William Henry</td>\n",
       "      <td>male</td>\n",
       "      <td>35.0</td>\n",
       "      <td>0</td>\n",
       "      <td>0</td>\n",
       "      <td>373450</td>\n",
       "      <td>8.0500</td>\n",
       "      <td>NaN</td>\n",
       "      <td>S</td>\n",
       "    </tr>\n",
       "  </tbody>\n",
       "</table>\n",
       "</div>"
      ],
      "text/plain": [
       "   PassengerId  Survived  Pclass  \\\n",
       "0            1         0       3   \n",
       "1            2         1       1   \n",
       "2            3         1       3   \n",
       "3            4         1       1   \n",
       "4            5         0       3   \n",
       "\n",
       "                                                Name     Sex   Age  SibSp  \\\n",
       "0                            Braund, Mr. Owen Harris    male  22.0      1   \n",
       "1  Cumings, Mrs. John Bradley (Florence Briggs Th...  female  38.0      1   \n",
       "2                             Heikkinen, Miss. Laina  female  26.0      0   \n",
       "3       Futrelle, Mrs. Jacques Heath (Lily May Peel)  female  35.0      1   \n",
       "4                           Allen, Mr. William Henry    male  35.0      0   \n",
       "\n",
       "   Parch            Ticket     Fare Cabin Embarked  \n",
       "0      0         A/5 21171   7.2500   NaN        S  \n",
       "1      0          PC 17599  71.2833   C85        C  \n",
       "2      0  STON/O2. 3101282   7.9250   NaN        S  \n",
       "3      0            113803  53.1000  C123        S  \n",
       "4      0            373450   8.0500   NaN        S  "
      ]
     },
     "execution_count": 8,
     "metadata": {},
     "output_type": "execute_result"
    }
   ],
   "source": [
    "passenger_data_train_df.head()"
   ]
  },
  {
   "cell_type": "code",
   "execution_count": 9,
   "id": "9aac65bd",
   "metadata": {},
   "outputs": [
    {
     "data": {
      "text/plain": [
       "(891, 12)"
      ]
     },
     "execution_count": 9,
     "metadata": {},
     "output_type": "execute_result"
    }
   ],
   "source": [
    "passenger_data_train_df.shape"
   ]
  },
  {
   "cell_type": "code",
   "execution_count": 10,
   "id": "2076a676",
   "metadata": {},
   "outputs": [
    {
     "data": {
      "text/plain": [
       "(PassengerId      0\n",
       " Pclass           0\n",
       " Name             0\n",
       " Sex              0\n",
       " Age             86\n",
       " SibSp            0\n",
       " Parch            0\n",
       " Ticket           0\n",
       " Fare             1\n",
       " Cabin          327\n",
       " Embarked         0\n",
       " dtype: int64,\n",
       " PassengerId      int64\n",
       " Pclass           int64\n",
       " Name            object\n",
       " Sex             object\n",
       " Age            float64\n",
       " SibSp            int64\n",
       " Parch            int64\n",
       " Ticket          object\n",
       " Fare           float64\n",
       " Cabin           object\n",
       " Embarked        object\n",
       " dtype: object)"
      ]
     },
     "execution_count": 10,
     "metadata": {},
     "output_type": "execute_result"
    }
   ],
   "source": [
    "passenger_data_test_df.isna().sum(), passenger_data_test_df.dtypes"
   ]
  },
  {
   "cell_type": "code",
   "execution_count": 11,
   "id": "ba950baa",
   "metadata": {},
   "outputs": [
    {
     "data": {
      "text/html": [
       "<div>\n",
       "<style scoped>\n",
       "    .dataframe tbody tr th:only-of-type {\n",
       "        vertical-align: middle;\n",
       "    }\n",
       "\n",
       "    .dataframe tbody tr th {\n",
       "        vertical-align: top;\n",
       "    }\n",
       "\n",
       "    .dataframe thead th {\n",
       "        text-align: right;\n",
       "    }\n",
       "</style>\n",
       "<table border=\"1\" class=\"dataframe\">\n",
       "  <thead>\n",
       "    <tr style=\"text-align: right;\">\n",
       "      <th></th>\n",
       "      <th>PassengerId</th>\n",
       "      <th>Pclass</th>\n",
       "      <th>Name</th>\n",
       "      <th>Sex</th>\n",
       "      <th>Age</th>\n",
       "      <th>SibSp</th>\n",
       "      <th>Parch</th>\n",
       "      <th>Ticket</th>\n",
       "      <th>Fare</th>\n",
       "      <th>Cabin</th>\n",
       "      <th>Embarked</th>\n",
       "    </tr>\n",
       "  </thead>\n",
       "  <tbody>\n",
       "    <tr>\n",
       "      <th>0</th>\n",
       "      <td>892</td>\n",
       "      <td>3</td>\n",
       "      <td>Kelly, Mr. James</td>\n",
       "      <td>male</td>\n",
       "      <td>34.5</td>\n",
       "      <td>0</td>\n",
       "      <td>0</td>\n",
       "      <td>330911</td>\n",
       "      <td>7.8292</td>\n",
       "      <td>NaN</td>\n",
       "      <td>Q</td>\n",
       "    </tr>\n",
       "    <tr>\n",
       "      <th>1</th>\n",
       "      <td>893</td>\n",
       "      <td>3</td>\n",
       "      <td>Wilkes, Mrs. James (Ellen Needs)</td>\n",
       "      <td>female</td>\n",
       "      <td>47.0</td>\n",
       "      <td>1</td>\n",
       "      <td>0</td>\n",
       "      <td>363272</td>\n",
       "      <td>7.0000</td>\n",
       "      <td>NaN</td>\n",
       "      <td>S</td>\n",
       "    </tr>\n",
       "    <tr>\n",
       "      <th>2</th>\n",
       "      <td>894</td>\n",
       "      <td>2</td>\n",
       "      <td>Myles, Mr. Thomas Francis</td>\n",
       "      <td>male</td>\n",
       "      <td>62.0</td>\n",
       "      <td>0</td>\n",
       "      <td>0</td>\n",
       "      <td>240276</td>\n",
       "      <td>9.6875</td>\n",
       "      <td>NaN</td>\n",
       "      <td>Q</td>\n",
       "    </tr>\n",
       "    <tr>\n",
       "      <th>3</th>\n",
       "      <td>895</td>\n",
       "      <td>3</td>\n",
       "      <td>Wirz, Mr. Albert</td>\n",
       "      <td>male</td>\n",
       "      <td>27.0</td>\n",
       "      <td>0</td>\n",
       "      <td>0</td>\n",
       "      <td>315154</td>\n",
       "      <td>8.6625</td>\n",
       "      <td>NaN</td>\n",
       "      <td>S</td>\n",
       "    </tr>\n",
       "    <tr>\n",
       "      <th>4</th>\n",
       "      <td>896</td>\n",
       "      <td>3</td>\n",
       "      <td>Hirvonen, Mrs. Alexander (Helga E Lindqvist)</td>\n",
       "      <td>female</td>\n",
       "      <td>22.0</td>\n",
       "      <td>1</td>\n",
       "      <td>1</td>\n",
       "      <td>3101298</td>\n",
       "      <td>12.2875</td>\n",
       "      <td>NaN</td>\n",
       "      <td>S</td>\n",
       "    </tr>\n",
       "  </tbody>\n",
       "</table>\n",
       "</div>"
      ],
      "text/plain": [
       "   PassengerId  Pclass                                          Name     Sex  \\\n",
       "0          892       3                              Kelly, Mr. James    male   \n",
       "1          893       3              Wilkes, Mrs. James (Ellen Needs)  female   \n",
       "2          894       2                     Myles, Mr. Thomas Francis    male   \n",
       "3          895       3                              Wirz, Mr. Albert    male   \n",
       "4          896       3  Hirvonen, Mrs. Alexander (Helga E Lindqvist)  female   \n",
       "\n",
       "    Age  SibSp  Parch   Ticket     Fare Cabin Embarked  \n",
       "0  34.5      0      0   330911   7.8292   NaN        Q  \n",
       "1  47.0      1      0   363272   7.0000   NaN        S  \n",
       "2  62.0      0      0   240276   9.6875   NaN        Q  \n",
       "3  27.0      0      0   315154   8.6625   NaN        S  \n",
       "4  22.0      1      1  3101298  12.2875   NaN        S  "
      ]
     },
     "execution_count": 11,
     "metadata": {},
     "output_type": "execute_result"
    }
   ],
   "source": [
    "passenger_data_test_df.head()"
   ]
  },
  {
   "cell_type": "markdown",
   "id": "0854470c",
   "metadata": {},
   "source": [
    "## 2.2 Data Visualization \n",
    "\n",
    "We are now going to see graphs or charts of certain features and make comparisons wherever relevant information it is suitable to make to have a better understanding and relations between each other. "
   ]
  },
  {
   "cell_type": "code",
   "execution_count": 12,
   "id": "cfa1fc2b",
   "metadata": {},
   "outputs": [
    {
     "data": {
      "text/html": [
       "<div>\n",
       "<style scoped>\n",
       "    .dataframe tbody tr th:only-of-type {\n",
       "        vertical-align: middle;\n",
       "    }\n",
       "\n",
       "    .dataframe tbody tr th {\n",
       "        vertical-align: top;\n",
       "    }\n",
       "\n",
       "    .dataframe thead th {\n",
       "        text-align: right;\n",
       "    }\n",
       "</style>\n",
       "<table border=\"1\" class=\"dataframe\">\n",
       "  <thead>\n",
       "    <tr style=\"text-align: right;\">\n",
       "      <th></th>\n",
       "      <th>PassengerId</th>\n",
       "      <th>Survived</th>\n",
       "      <th>Pclass</th>\n",
       "      <th>Name</th>\n",
       "      <th>Sex</th>\n",
       "      <th>Age</th>\n",
       "      <th>SibSp</th>\n",
       "      <th>Parch</th>\n",
       "      <th>Ticket</th>\n",
       "      <th>Fare</th>\n",
       "      <th>Cabin</th>\n",
       "      <th>Embarked</th>\n",
       "    </tr>\n",
       "  </thead>\n",
       "  <tbody>\n",
       "    <tr>\n",
       "      <th>0</th>\n",
       "      <td>1</td>\n",
       "      <td>0</td>\n",
       "      <td>3</td>\n",
       "      <td>Braund, Mr. Owen Harris</td>\n",
       "      <td>male</td>\n",
       "      <td>22.0</td>\n",
       "      <td>1</td>\n",
       "      <td>0</td>\n",
       "      <td>A/5 21171</td>\n",
       "      <td>7.2500</td>\n",
       "      <td>NaN</td>\n",
       "      <td>S</td>\n",
       "    </tr>\n",
       "    <tr>\n",
       "      <th>1</th>\n",
       "      <td>2</td>\n",
       "      <td>1</td>\n",
       "      <td>1</td>\n",
       "      <td>Cumings, Mrs. John Bradley (Florence Briggs Th...</td>\n",
       "      <td>female</td>\n",
       "      <td>38.0</td>\n",
       "      <td>1</td>\n",
       "      <td>0</td>\n",
       "      <td>PC 17599</td>\n",
       "      <td>71.2833</td>\n",
       "      <td>C85</td>\n",
       "      <td>C</td>\n",
       "    </tr>\n",
       "    <tr>\n",
       "      <th>2</th>\n",
       "      <td>3</td>\n",
       "      <td>1</td>\n",
       "      <td>3</td>\n",
       "      <td>Heikkinen, Miss. Laina</td>\n",
       "      <td>female</td>\n",
       "      <td>26.0</td>\n",
       "      <td>0</td>\n",
       "      <td>0</td>\n",
       "      <td>STON/O2. 3101282</td>\n",
       "      <td>7.9250</td>\n",
       "      <td>NaN</td>\n",
       "      <td>S</td>\n",
       "    </tr>\n",
       "    <tr>\n",
       "      <th>3</th>\n",
       "      <td>4</td>\n",
       "      <td>1</td>\n",
       "      <td>1</td>\n",
       "      <td>Futrelle, Mrs. Jacques Heath (Lily May Peel)</td>\n",
       "      <td>female</td>\n",
       "      <td>35.0</td>\n",
       "      <td>1</td>\n",
       "      <td>0</td>\n",
       "      <td>113803</td>\n",
       "      <td>53.1000</td>\n",
       "      <td>C123</td>\n",
       "      <td>S</td>\n",
       "    </tr>\n",
       "    <tr>\n",
       "      <th>4</th>\n",
       "      <td>5</td>\n",
       "      <td>0</td>\n",
       "      <td>3</td>\n",
       "      <td>Allen, Mr. William Henry</td>\n",
       "      <td>male</td>\n",
       "      <td>35.0</td>\n",
       "      <td>0</td>\n",
       "      <td>0</td>\n",
       "      <td>373450</td>\n",
       "      <td>8.0500</td>\n",
       "      <td>NaN</td>\n",
       "      <td>S</td>\n",
       "    </tr>\n",
       "  </tbody>\n",
       "</table>\n",
       "</div>"
      ],
      "text/plain": [
       "   PassengerId  Survived  Pclass  \\\n",
       "0            1         0       3   \n",
       "1            2         1       1   \n",
       "2            3         1       3   \n",
       "3            4         1       1   \n",
       "4            5         0       3   \n",
       "\n",
       "                                                Name     Sex   Age  SibSp  \\\n",
       "0                            Braund, Mr. Owen Harris    male  22.0      1   \n",
       "1  Cumings, Mrs. John Bradley (Florence Briggs Th...  female  38.0      1   \n",
       "2                             Heikkinen, Miss. Laina  female  26.0      0   \n",
       "3       Futrelle, Mrs. Jacques Heath (Lily May Peel)  female  35.0      1   \n",
       "4                           Allen, Mr. William Henry    male  35.0      0   \n",
       "\n",
       "   Parch            Ticket     Fare Cabin Embarked  \n",
       "0      0         A/5 21171   7.2500   NaN        S  \n",
       "1      0          PC 17599  71.2833   C85        C  \n",
       "2      0  STON/O2. 3101282   7.9250   NaN        S  \n",
       "3      0            113803  53.1000  C123        S  \n",
       "4      0            373450   8.0500   NaN        S  "
      ]
     },
     "execution_count": 12,
     "metadata": {},
     "output_type": "execute_result"
    }
   ],
   "source": [
    "passenger_data_train_df.head()"
   ]
  },
  {
   "cell_type": "markdown",
   "id": "7ebe3588",
   "metadata": {},
   "source": [
    "### 2.2.1 Passengers Survived"
   ]
  },
  {
   "cell_type": "code",
   "execution_count": 13,
   "id": "f4ab0e0b",
   "metadata": {},
   "outputs": [
    {
     "data": {
      "image/png": "[encoded data removed]",
      "text/plain": [
       "<Figure size 640x480 with 1 Axes>"
      ]
     },
     "metadata": {},
     "output_type": "display_data"
    }
   ],
   "source": [
    "# Make a bar graph to see how many passenger have survived\n",
    "passenger_data_train_df['Survived'].value_counts().plot(kind = 'bar', color = ['salmon', 'lightblue']);"
   ]
  },
  {
   "cell_type": "markdown",
   "id": "dfb0cdb6",
   "metadata": {},
   "source": [
    "This shows that around 600 passengers have not survived and around 350 have survived."
   ]
  },
  {
   "cell_type": "markdown",
   "id": "b410061c",
   "metadata": {},
   "source": [
    "### 2.2.2 Passengers Sex and their Age"
   ]
  },
  {
   "cell_type": "code",
   "execution_count": 14,
   "id": "a0fdfbd6",
   "metadata": {
    "scrolled": false
   },
   "outputs": [
    {
     "data": {
      "image/png": "[encoded data removed]",
      "text/plain": [
       "<Figure size 640x480 with 1 Axes>"
      ]
     },
     "metadata": {},
     "output_type": "display_data"
    }
   ],
   "source": [
    "# Check the age groups of the passengers \n",
    "plt.hist(passenger_data_train_df['Age']);"
   ]
  },
  {
   "cell_type": "code",
   "execution_count": 15,
   "id": "21a6988e",
   "metadata": {},
   "outputs": [
    {
     "data": {
      "image/png": "[encoded data removed]",
      "text/plain": [
       "<Figure size 640x480 with 1 Axes>"
      ]
     },
     "metadata": {},
     "output_type": "display_data"
    }
   ],
   "source": [
    "# Compare the ages with the genders\n",
    "pd.crosstab(passenger_data_train_df['Sex'], passenger_data_train_df['Age'].mean()).plot(kind = 'bar',\n",
    "                                                                      title = 'Total Passengers average age');"
   ]
  },
  {
   "cell_type": "markdown",
   "id": "b6a6b961",
   "metadata": {},
   "source": [
    "### 2.2.3 Cross-Check Passengers Sex and Survived"
   ]
  },
  {
   "cell_type": "code",
   "execution_count": 16,
   "id": "cb82c490",
   "metadata": {},
   "outputs": [
    {
     "data": {
      "text/plain": [
       "male      577\n",
       "female    314\n",
       "Name: Sex, dtype: int64"
      ]
     },
     "execution_count": 16,
     "metadata": {},
     "output_type": "execute_result"
    }
   ],
   "source": [
    "# Total number of males and females\n",
    "passenger_data_train_df['Sex'].value_counts()"
   ]
  },
  {
   "cell_type": "code",
   "execution_count": 17,
   "id": "4fa6c4b9",
   "metadata": {},
   "outputs": [
    {
     "data": {
      "image/png": "[encoded data removed]",
      "text/plain": [
       "<Figure size 640x480 with 1 Axes>"
      ]
     },
     "metadata": {},
     "output_type": "display_data"
    }
   ],
   "source": [
    "# Plot a cross tab to check how many males/females have survived using the bar function\n",
    "crosstab = pd.crosstab(passenger_data_train_df['Sex'], passenger_data_train_df['Survived']).plot(kind = 'bar', \n",
    "                                                                    xlabel = 'Sex',\n",
    "                                                                    ylabel = 'Amount',\n",
    "                                                                    title = 'Passengers Survived based on their genders',\n",
    "                                                                    color = ['Salmon', 'lightblue']);"
   ]
  },
  {
   "cell_type": "markdown",
   "id": "3b16d41b",
   "metadata": {},
   "source": [
    "There are around 250 females survived compared to under 100 and around 500 males that have not suvived as opposed to 100 men. This means that more females have survived the sinking of the titanic ship compared to the males. Males have died more than the females. "
   ]
  },
  {
   "cell_type": "markdown",
   "id": "809191fa",
   "metadata": {},
   "source": [
    "### 2.2.4 Passengers Siblings/Spouse and Parents with/without Children vs Survival"
   ]
  },
  {
   "cell_type": "code",
   "execution_count": 18,
   "id": "04e85d42",
   "metadata": {},
   "outputs": [
    {
     "data": {
      "image/png": "[encoded data removed]",
      "text/plain": [
       "<Figure size 640x480 with 1 Axes>"
      ]
     },
     "metadata": {},
     "output_type": "display_data"
    }
   ],
   "source": [
    "passenger_data_train_df['SibSp'].value_counts().plot(kind = 'bar');"
   ]
  },
  {
   "cell_type": "code",
   "execution_count": 19,
   "id": "e10d4c30",
   "metadata": {},
   "outputs": [
    {
     "name": "stderr",
     "output_type": "stream",
     "text": [
      "<__array_function__ internals>:180: UserWarning: Warning: converting a masked element to nan.\n",
      "C:\\Users\\ahmed\\Desktop\\Machine-Learning-Course\\Titanic-Project\\env\\lib\\site-packages\\matplotlib\\colors.py:1310: UserWarning: Warning: converting a masked element to nan.\n",
      "  data = np.asarray(value)\n",
      "C:\\Users\\ahmed\\Desktop\\Machine-Learning-Course\\Titanic-Project\\env\\lib\\site-packages\\matplotlib\\ticker.py:536: UserWarning: Warning: converting a masked element to nan.\n",
      "  if self._useLocale else fmt % arg)\n"
     ]
    },
    {
     "data": {
      "image/png": "[encoded data removed]",
      "text/plain": [
       "<Figure size 640x480 with 1 Axes>"
      ]
     },
     "metadata": {},
     "output_type": "display_data"
    }
   ],
   "source": [
    "# Parch with Sibsp and survived\n",
    "fig, ax = plt.subplots();\n",
    "\n",
    "scatter = ax.scatter(x = passenger_data_train_df['Age'],\n",
    "           y = passenger_data_train_df['SibSp'],\n",
    "           c = passenger_data_train_df['Survived']);\n",
    "ax.set(title = 'Siblings/Spouse with Age that have survived',\n",
    "       xlabel = 'Passengers Age',\n",
    "       ylabel = 'Number of Siblings/Spouse');\n",
    "\n",
    "ax.legend(*scatter.legend_elements(), title = 'Survived');\n",
    "\n",
    "\n",
    "ax.axvline(passenger_data_train_df['Age'].mean(),\n",
    "           linestyle = '--');"
   ]
  },
  {
   "cell_type": "code",
   "execution_count": 20,
   "id": "4c5f957e",
   "metadata": {},
   "outputs": [
    {
     "data": {
      "text/plain": [
       "0    678\n",
       "1    118\n",
       "2     80\n",
       "5      5\n",
       "3      5\n",
       "4      4\n",
       "6      1\n",
       "Name: Parch, dtype: int64"
      ]
     },
     "execution_count": 20,
     "metadata": {},
     "output_type": "execute_result"
    }
   ],
   "source": [
    "# Check how many parents/children there are\n",
    "passenger_data_train_df['Parch'].value_counts()"
   ]
  },
  {
   "cell_type": "code",
   "execution_count": 21,
   "id": "8057e55d",
   "metadata": {},
   "outputs": [
    {
     "data": {
      "text/plain": [
       "0    608\n",
       "1    209\n",
       "2     28\n",
       "4     18\n",
       "3     16\n",
       "8      7\n",
       "5      5\n",
       "Name: SibSp, dtype: int64"
      ]
     },
     "execution_count": 21,
     "metadata": {},
     "output_type": "execute_result"
    }
   ],
   "source": [
    "# How many siblings/spouse there are\n",
    "passenger_data_train_df['SibSp'].value_counts()"
   ]
  },
  {
   "cell_type": "markdown",
   "id": "64650128",
   "metadata": {},
   "source": [
    "### 2.2.4 Passengers Embarked Port with Survived"
   ]
  },
  {
   "cell_type": "code",
   "execution_count": 22,
   "id": "ba22ab96",
   "metadata": {},
   "outputs": [
    {
     "data": {
      "text/plain": [
       "S    644\n",
       "C    168\n",
       "Q     77\n",
       "Name: Embarked, dtype: int64"
      ]
     },
     "execution_count": 22,
     "metadata": {},
     "output_type": "execute_result"
    }
   ],
   "source": [
    "passenger_data_train_df['Embarked'].value_counts()"
   ]
  },
  {
   "cell_type": "code",
   "execution_count": 23,
   "id": "f5f44a38",
   "metadata": {},
   "outputs": [
    {
     "data": {
      "image/png": "[encoded data removed]",
      "text/plain": [
       "<Figure size 640x480 with 1 Axes>"
      ]
     },
     "metadata": {},
     "output_type": "display_data"
    }
   ],
   "source": [
    "# Horizontal bar graph of passenger boarding the ship from different ports\n",
    "pd.crosstab(passenger_data_train_df['Embarked'], passenger_data_train_df['Survived']).plot(kind = 'barh');"
   ]
  },
  {
   "cell_type": "markdown",
   "id": "e106a8c6",
   "metadata": {},
   "source": [
    "### 2.2.5 Putting it all in one figure"
   ]
  },
  {
   "cell_type": "code",
   "execution_count": 24,
   "id": "988f9e5d",
   "metadata": {
    "scrolled": false
   },
   "outputs": [
    {
     "name": "stderr",
     "output_type": "stream",
     "text": [
      "C:\\Users\\ahmed\\AppData\\Local\\Temp\\ipykernel_10672\\4039485387.py:4: MatplotlibDeprecationWarning: The seaborn styles shipped by Matplotlib are deprecated since 3.6, as they no longer correspond to the styles shipped by seaborn. However, they will remain available as 'seaborn-v0_8-<style>'. Alternatively, directly use the seaborn API instead.\n",
      "  plt.style.use('seaborn-darkgrid')\n"
     ]
    },
    {
     "data": {
      "image/png": "[encoded data removed]",
      "text/plain": [
       "<Figure size 1500x1500 with 4 Axes>"
      ]
     },
     "metadata": {},
     "output_type": "display_data"
    }
   ],
   "source": [
    "# Now we are going to plot all the important feature comparisons made in one figure to present the data of the passenger.\n",
    "\n",
    "# Figure color style\n",
    "plt.style.use('seaborn-darkgrid')\n",
    "\n",
    "# Setting the figtures\n",
    "fig, ((ax1, ax2), (ax3,ax4)) = plt.subplots(nrows = 2,\n",
    "                                            ncols = 2,\n",
    "                                            figsize = (15,15));\n",
    "\n",
    "# Plot 1: Number of Passengers Survived\n",
    "ax4 = passenger_data_train_df['Survived'].value_counts().plot(kind = 'bar', color = ['maroon', 'darkblue'])\n",
    "# Customize plot 1\n",
    "ax4.set(title = 'Number of Passengers Survived',\n",
    "        xlabel = '0 = Not Survived ; 1 = Survived',\n",
    "        ylabel = 'Number of Passengers');\n",
    "\n",
    "# Plot 2: Passengers relation to the Age\n",
    "hist = ax2.hist(passenger_data_train_df['Age'],\n",
    "                bins = 10);\n",
    "# Customize Plot 2\n",
    "ax2.set(title = 'Normal Distribution of Passengers Age',\n",
    "        xlabel = 'Passengers Age',\n",
    "        ylabel = 'Frequency');\n",
    "    \n",
    "# Plot 3: Number of Passengers Siblings/spouse with Ship Class that survived\n",
    "scatter = ax3.scatter(x = passenger_data_train_df['SibSp'],\n",
    "                      y = passenger_data_train_df['Pclass'],\n",
    "                      c = passenger_data_train_df['Survived'],\n",
    "                      cmap =  'spring');\n",
    "\n",
    "# Customize the plot\n",
    "ax3.set(title = 'Passengers Siblings/Spouse in Class that survived',\n",
    "        xlabel = 'Number of Spouses',\n",
    "        ylabel = 'Ship Class');\n",
    "\n",
    "# Add a legend\n",
    "ax3.legend(*scatter.legend_elements(), title = 'Survived');\n",
    "\n",
    "# Plot 4: \n",
    "scatter = ax1.scatter(x = passenger_data_train_df['Parch'],\n",
    "            y = passenger_data_train_df['Pclass'],\n",
    "            c = passenger_data_train_df['Survived'],\n",
    "            cmap = 'winter');\n",
    "\n",
    "# Customize the plot\n",
    "ax1.set(title = 'Passengers Parents with/without Children in Class that survived',\n",
    "        xlabel = 'Number of Parents/Children',\n",
    "        ylabel = 'Ship Class');\n",
    "\n",
    "# Add a legend\n",
    "ax1.legend(*scatter.legend_elements(), title = 'Survived');\n",
    "\n",
    "# Main Title\n",
    "fig.suptitle('Passenger Survived Based On Different Factors',\n",
    "             fontsize = 22,\n",
    "             fontweight = 'bold',\n",
    "             horizontalalignment = 'center');"
   ]
  },
  {
   "cell_type": "markdown",
   "id": "53f203d7",
   "metadata": {},
   "source": [
    "## 2.3 Correlation Matrix\n",
    "\n",
    "We are going to build a correlation matrix that will show the feature relationships and compare it with the `Survived` label. This is not going to be accurate because there are some missing values and the feature data types are object (string), so the relations between each features in comparison to the `survived` label will not give a better insight or analysis."
   ]
  },
  {
   "cell_type": "code",
   "execution_count": 25,
   "id": "cf16b4fa",
   "metadata": {},
   "outputs": [
    {
     "name": "stderr",
     "output_type": "stream",
     "text": [
      "C:\\Users\\ahmed\\AppData\\Local\\Temp\\ipykernel_10672\\3818191522.py:5: FutureWarning: The default value of numeric_only in DataFrame.corr is deprecated. In a future version, it will default to False. Select only valid columns or specify the value of numeric_only to silence this warning.\n",
      "  corr_matrix = passenger_data_train_df.corr();\n"
     ]
    },
    {
     "data": {
      "image/png": "[encoded data removed]",
      "text/plain": [
       "<Figure size 1000x500 with 2 Axes>"
      ]
     },
     "metadata": {},
     "output_type": "display_data"
    }
   ],
   "source": [
    "# Create a figure\n",
    "fig, ax = plt.subplots(figsize = (10,5));\n",
    "\n",
    "# Create a correlation matrix.\n",
    "corr_matrix = passenger_data_train_df.corr();\n",
    "\n",
    "ax = sns.heatmap(corr_matrix,\n",
    "                 linewidths = 0.5,\n",
    "                 fmt = '.2f',\n",
    "                 cbar = True,\n",
    "                 annot = True);"
   ]
  },
  {
   "cell_type": "markdown",
   "id": "b7a08bea",
   "metadata": {},
   "source": [
    "## 2.4 Data Transformation (Pre-Processing)\n",
    "\n",
    "We are going to clean, transform the data because it contains `missing values` and that the type of data in some features is `object` and so the following steps to perform these operations are:\n",
    "\n",
    "1) Drop the missing values of the features that are small in the training and test data. \n",
    "2) Fill the missing values (impute) in the training and test data. \n",
    "3) Split into X and y (features and labels). Split the training data into train and val. \n",
    "4) Convert the Non-numerical features into numerical features. \n"
   ]
  },
  {
   "cell_type": "markdown",
   "id": "ccd6a891",
   "metadata": {},
   "source": [
    "### 2.4.1 Make a copy\n",
    "\n",
    "Make a copy of the passenger data to avoid any mistakes or errors that can ruin the data of the passengers."
   ]
  },
  {
   "cell_type": "code",
   "execution_count": 107,
   "id": "1e3752ea",
   "metadata": {},
   "outputs": [
    {
     "data": {
      "text/html": [
       "<div>\n",
       "<style scoped>\n",
       "    .dataframe tbody tr th:only-of-type {\n",
       "        vertical-align: middle;\n",
       "    }\n",
       "\n",
       "    .dataframe tbody tr th {\n",
       "        vertical-align: top;\n",
       "    }\n",
       "\n",
       "    .dataframe thead th {\n",
       "        text-align: right;\n",
       "    }\n",
       "</style>\n",
       "<table border=\"1\" class=\"dataframe\">\n",
       "  <thead>\n",
       "    <tr style=\"text-align: right;\">\n",
       "      <th></th>\n",
       "      <th>PassengerId</th>\n",
       "      <th>Survived</th>\n",
       "      <th>Pclass</th>\n",
       "      <th>Name</th>\n",
       "      <th>Sex</th>\n",
       "      <th>Age</th>\n",
       "      <th>SibSp</th>\n",
       "      <th>Parch</th>\n",
       "      <th>Ticket</th>\n",
       "      <th>Fare</th>\n",
       "      <th>Cabin</th>\n",
       "      <th>Embarked</th>\n",
       "    </tr>\n",
       "  </thead>\n",
       "  <tbody>\n",
       "    <tr>\n",
       "      <th>0</th>\n",
       "      <td>1</td>\n",
       "      <td>0</td>\n",
       "      <td>3</td>\n",
       "      <td>Braund, Mr. Owen Harris</td>\n",
       "      <td>male</td>\n",
       "      <td>22.0</td>\n",
       "      <td>1</td>\n",
       "      <td>0</td>\n",
       "      <td>A/5 21171</td>\n",
       "      <td>7.2500</td>\n",
       "      <td>NaN</td>\n",
       "      <td>S</td>\n",
       "    </tr>\n",
       "    <tr>\n",
       "      <th>1</th>\n",
       "      <td>2</td>\n",
       "      <td>1</td>\n",
       "      <td>1</td>\n",
       "      <td>Cumings, Mrs. John Bradley (Florence Briggs Th...</td>\n",
       "      <td>female</td>\n",
       "      <td>38.0</td>\n",
       "      <td>1</td>\n",
       "      <td>0</td>\n",
       "      <td>PC 17599</td>\n",
       "      <td>71.2833</td>\n",
       "      <td>C85</td>\n",
       "      <td>C</td>\n",
       "    </tr>\n",
       "    <tr>\n",
       "      <th>2</th>\n",
       "      <td>3</td>\n",
       "      <td>1</td>\n",
       "      <td>3</td>\n",
       "      <td>Heikkinen, Miss. Laina</td>\n",
       "      <td>female</td>\n",
       "      <td>26.0</td>\n",
       "      <td>0</td>\n",
       "      <td>0</td>\n",
       "      <td>STON/O2. 3101282</td>\n",
       "      <td>7.9250</td>\n",
       "      <td>NaN</td>\n",
       "      <td>S</td>\n",
       "    </tr>\n",
       "    <tr>\n",
       "      <th>3</th>\n",
       "      <td>4</td>\n",
       "      <td>1</td>\n",
       "      <td>1</td>\n",
       "      <td>Futrelle, Mrs. Jacques Heath (Lily May Peel)</td>\n",
       "      <td>female</td>\n",
       "      <td>35.0</td>\n",
       "      <td>1</td>\n",
       "      <td>0</td>\n",
       "      <td>113803</td>\n",
       "      <td>53.1000</td>\n",
       "      <td>C123</td>\n",
       "      <td>S</td>\n",
       "    </tr>\n",
       "    <tr>\n",
       "      <th>4</th>\n",
       "      <td>5</td>\n",
       "      <td>0</td>\n",
       "      <td>3</td>\n",
       "      <td>Allen, Mr. William Henry</td>\n",
       "      <td>male</td>\n",
       "      <td>35.0</td>\n",
       "      <td>0</td>\n",
       "      <td>0</td>\n",
       "      <td>373450</td>\n",
       "      <td>8.0500</td>\n",
       "      <td>NaN</td>\n",
       "      <td>S</td>\n",
       "    </tr>\n",
       "  </tbody>\n",
       "</table>\n",
       "</div>"
      ],
      "text/plain": [
       "   PassengerId  Survived  Pclass  \\\n",
       "0            1         0       3   \n",
       "1            2         1       1   \n",
       "2            3         1       3   \n",
       "3            4         1       1   \n",
       "4            5         0       3   \n",
       "\n",
       "                                                Name     Sex   Age  SibSp  \\\n",
       "0                            Braund, Mr. Owen Harris    male  22.0      1   \n",
       "1  Cumings, Mrs. John Bradley (Florence Briggs Th...  female  38.0      1   \n",
       "2                             Heikkinen, Miss. Laina  female  26.0      0   \n",
       "3       Futrelle, Mrs. Jacques Heath (Lily May Peel)  female  35.0      1   \n",
       "4                           Allen, Mr. William Henry    male  35.0      0   \n",
       "\n",
       "   Parch            Ticket     Fare Cabin Embarked  \n",
       "0      0         A/5 21171   7.2500   NaN        S  \n",
       "1      0          PC 17599  71.2833   C85        C  \n",
       "2      0  STON/O2. 3101282   7.9250   NaN        S  \n",
       "3      0            113803  53.1000  C123        S  \n",
       "4      0            373450   8.0500   NaN        S  "
      ]
     },
     "execution_count": 107,
     "metadata": {},
     "output_type": "execute_result"
    }
   ],
   "source": [
    "# Make a copy of the training and test data\n",
    "passenger_data_train_df_copy = passenger_data_train_df.copy()\n",
    "passenger_data_test_df_copy = passenger_data_test_df.copy()\n",
    "\n",
    "passenger_data_train_df_copy.head()"
   ]
  },
  {
   "cell_type": "code",
   "execution_count": 108,
   "id": "8cc38f0a",
   "metadata": {},
   "outputs": [
    {
     "data": {
      "text/html": [
       "<div>\n",
       "<style scoped>\n",
       "    .dataframe tbody tr th:only-of-type {\n",
       "        vertical-align: middle;\n",
       "    }\n",
       "\n",
       "    .dataframe tbody tr th {\n",
       "        vertical-align: top;\n",
       "    }\n",
       "\n",
       "    .dataframe thead th {\n",
       "        text-align: right;\n",
       "    }\n",
       "</style>\n",
       "<table border=\"1\" class=\"dataframe\">\n",
       "  <thead>\n",
       "    <tr style=\"text-align: right;\">\n",
       "      <th></th>\n",
       "      <th>PassengerId</th>\n",
       "      <th>Pclass</th>\n",
       "      <th>Name</th>\n",
       "      <th>Sex</th>\n",
       "      <th>Age</th>\n",
       "      <th>SibSp</th>\n",
       "      <th>Parch</th>\n",
       "      <th>Ticket</th>\n",
       "      <th>Fare</th>\n",
       "      <th>Cabin</th>\n",
       "      <th>Embarked</th>\n",
       "    </tr>\n",
       "  </thead>\n",
       "  <tbody>\n",
       "    <tr>\n",
       "      <th>0</th>\n",
       "      <td>892</td>\n",
       "      <td>3</td>\n",
       "      <td>Kelly, Mr. James</td>\n",
       "      <td>male</td>\n",
       "      <td>34.5</td>\n",
       "      <td>0</td>\n",
       "      <td>0</td>\n",
       "      <td>330911</td>\n",
       "      <td>7.8292</td>\n",
       "      <td>NaN</td>\n",
       "      <td>Q</td>\n",
       "    </tr>\n",
       "    <tr>\n",
       "      <th>1</th>\n",
       "      <td>893</td>\n",
       "      <td>3</td>\n",
       "      <td>Wilkes, Mrs. James (Ellen Needs)</td>\n",
       "      <td>female</td>\n",
       "      <td>47.0</td>\n",
       "      <td>1</td>\n",
       "      <td>0</td>\n",
       "      <td>363272</td>\n",
       "      <td>7.0000</td>\n",
       "      <td>NaN</td>\n",
       "      <td>S</td>\n",
       "    </tr>\n",
       "    <tr>\n",
       "      <th>2</th>\n",
       "      <td>894</td>\n",
       "      <td>2</td>\n",
       "      <td>Myles, Mr. Thomas Francis</td>\n",
       "      <td>male</td>\n",
       "      <td>62.0</td>\n",
       "      <td>0</td>\n",
       "      <td>0</td>\n",
       "      <td>240276</td>\n",
       "      <td>9.6875</td>\n",
       "      <td>NaN</td>\n",
       "      <td>Q</td>\n",
       "    </tr>\n",
       "    <tr>\n",
       "      <th>3</th>\n",
       "      <td>895</td>\n",
       "      <td>3</td>\n",
       "      <td>Wirz, Mr. Albert</td>\n",
       "      <td>male</td>\n",
       "      <td>27.0</td>\n",
       "      <td>0</td>\n",
       "      <td>0</td>\n",
       "      <td>315154</td>\n",
       "      <td>8.6625</td>\n",
       "      <td>NaN</td>\n",
       "      <td>S</td>\n",
       "    </tr>\n",
       "    <tr>\n",
       "      <th>4</th>\n",
       "      <td>896</td>\n",
       "      <td>3</td>\n",
       "      <td>Hirvonen, Mrs. Alexander (Helga E Lindqvist)</td>\n",
       "      <td>female</td>\n",
       "      <td>22.0</td>\n",
       "      <td>1</td>\n",
       "      <td>1</td>\n",
       "      <td>3101298</td>\n",
       "      <td>12.2875</td>\n",
       "      <td>NaN</td>\n",
       "      <td>S</td>\n",
       "    </tr>\n",
       "  </tbody>\n",
       "</table>\n",
       "</div>"
      ],
      "text/plain": [
       "   PassengerId  Pclass                                          Name     Sex  \\\n",
       "0          892       3                              Kelly, Mr. James    male   \n",
       "1          893       3              Wilkes, Mrs. James (Ellen Needs)  female   \n",
       "2          894       2                     Myles, Mr. Thomas Francis    male   \n",
       "3          895       3                              Wirz, Mr. Albert    male   \n",
       "4          896       3  Hirvonen, Mrs. Alexander (Helga E Lindqvist)  female   \n",
       "\n",
       "    Age  SibSp  Parch   Ticket     Fare Cabin Embarked  \n",
       "0  34.5      0      0   330911   7.8292   NaN        Q  \n",
       "1  47.0      1      0   363272   7.0000   NaN        S  \n",
       "2  62.0      0      0   240276   9.6875   NaN        Q  \n",
       "3  27.0      0      0   315154   8.6625   NaN        S  \n",
       "4  22.0      1      1  3101298  12.2875   NaN        S  "
      ]
     },
     "execution_count": 108,
     "metadata": {},
     "output_type": "execute_result"
    }
   ],
   "source": [
    "# View the test data copy\n",
    "passenger_data_test_df_copy.head()"
   ]
  },
  {
   "cell_type": "code",
   "execution_count": 109,
   "id": "fcc24787",
   "metadata": {},
   "outputs": [
    {
     "data": {
      "text/plain": [
       "(PassengerId      0\n",
       " Survived         0\n",
       " Pclass           0\n",
       " Name             0\n",
       " Sex              0\n",
       " Age            177\n",
       " SibSp            0\n",
       " Parch            0\n",
       " Ticket           0\n",
       " Fare             0\n",
       " Cabin          687\n",
       " Embarked         2\n",
       " dtype: int64,\n",
       " PassengerId      int64\n",
       " Survived         int64\n",
       " Pclass           int64\n",
       " Name            object\n",
       " Sex             object\n",
       " Age            float64\n",
       " SibSp            int64\n",
       " Parch            int64\n",
       " Ticket          object\n",
       " Fare           float64\n",
       " Cabin           object\n",
       " Embarked        object\n",
       " dtype: object)"
      ]
     },
     "execution_count": 109,
     "metadata": {},
     "output_type": "execute_result"
    }
   ],
   "source": [
    "# Check how many missing and the type of values in the training data copy\n",
    "passenger_data_train_df_copy.isna().sum(), passenger_data_train_df_copy.dtypes"
   ]
  },
  {
   "cell_type": "code",
   "execution_count": 110,
   "id": "3e38a551",
   "metadata": {},
   "outputs": [
    {
     "data": {
      "text/plain": [
       "(PassengerId      0\n",
       " Pclass           0\n",
       " Name             0\n",
       " Sex              0\n",
       " Age             86\n",
       " SibSp            0\n",
       " Parch            0\n",
       " Ticket           0\n",
       " Fare             1\n",
       " Cabin          327\n",
       " Embarked         0\n",
       " dtype: int64,\n",
       " PassengerId      int64\n",
       " Pclass           int64\n",
       " Name            object\n",
       " Sex             object\n",
       " Age            float64\n",
       " SibSp            int64\n",
       " Parch            int64\n",
       " Ticket          object\n",
       " Fare           float64\n",
       " Cabin           object\n",
       " Embarked        object\n",
       " dtype: object)"
      ]
     },
     "execution_count": 110,
     "metadata": {},
     "output_type": "execute_result"
    }
   ],
   "source": [
    "# Check how many missing and the type of values in the test data copy\n",
    "passenger_data_test_df_copy.isna().sum(), passenger_data_test_df_copy.dtypes"
   ]
  },
  {
   "cell_type": "markdown",
   "id": "b04b4411",
   "metadata": {},
   "source": [
    "### 2.4.2 Split into Features and Labels (X & y)\n"
   ]
  },
  {
   "cell_type": "code",
   "execution_count": 112,
   "id": "06d3bf61",
   "metadata": {},
   "outputs": [
    {
     "data": {
      "text/plain": [
       "(   PassengerId  Pclass                                               Name  \\\n",
       " 0            1       3                            Braund, Mr. Owen Harris   \n",
       " 1            2       1  Cumings, Mrs. John Bradley (Florence Briggs Th...   \n",
       " 2            3       3                             Heikkinen, Miss. Laina   \n",
       " 3            4       1       Futrelle, Mrs. Jacques Heath (Lily May Peel)   \n",
       " 4            5       3                           Allen, Mr. William Henry   \n",
       " \n",
       "       Sex   Age  SibSp  Parch            Ticket     Fare Cabin Embarked  \n",
       " 0    male  22.0      1      0         A/5 21171   7.2500   NaN        S  \n",
       " 1  female  38.0      1      0          PC 17599  71.2833   C85        C  \n",
       " 2  female  26.0      0      0  STON/O2. 3101282   7.9250   NaN        S  \n",
       " 3  female  35.0      1      0            113803  53.1000  C123        S  \n",
       " 4    male  35.0      0      0            373450   8.0500   NaN        S  ,\n",
       " 0    0\n",
       " 1    1\n",
       " 2    1\n",
       " 3    1\n",
       " 4    0\n",
       " Name: Survived, dtype: int64)"
      ]
     },
     "execution_count": 112,
     "metadata": {},
     "output_type": "execute_result"
    }
   ],
   "source": [
    "# Split the training feature and label \n",
    "X = passenger_data_train_df_copy.drop('Survived', axis = 1)\n",
    "y = passenger_data_train_df_copy['Survived']\n",
    "\n",
    "X.head(), y.head()"
   ]
  },
  {
   "cell_type": "code",
   "execution_count": 113,
   "id": "3dd1d727",
   "metadata": {},
   "outputs": [
    {
     "data": {
      "text/plain": [
       "((891, 11), (891,))"
      ]
     },
     "execution_count": 113,
     "metadata": {},
     "output_type": "execute_result"
    }
   ],
   "source": [
    "X.shape, y.shape"
   ]
  },
  {
   "cell_type": "code",
   "execution_count": 115,
   "id": "3354f405",
   "metadata": {},
   "outputs": [
    {
     "data": {
      "text/plain": [
       "(PassengerId      0\n",
       " Pclass           0\n",
       " Name             0\n",
       " Sex              0\n",
       " Age            177\n",
       " SibSp            0\n",
       " Parch            0\n",
       " Ticket           0\n",
       " Fare             0\n",
       " Cabin          687\n",
       " Embarked         2\n",
       " dtype: int64,\n",
       " PassengerId      0\n",
       " Pclass           0\n",
       " Name             0\n",
       " Sex              0\n",
       " Age             86\n",
       " SibSp            0\n",
       " Parch            0\n",
       " Ticket           0\n",
       " Fare             1\n",
       " Cabin          327\n",
       " Embarked         0\n",
       " dtype: int64)"
      ]
     },
     "execution_count": 115,
     "metadata": {},
     "output_type": "execute_result"
    }
   ],
   "source": [
    "# Check the missing values\n",
    "X.isna().sum(), passenger_data_test_df_copy.isna().sum()"
   ]
  },
  {
   "cell_type": "markdown",
   "id": "f2967921",
   "metadata": {},
   "source": [
    "### 2.4.3 Data Filling (Imputing)\n",
    "\n",
    "Fill the missing values with the respective values using SimpleImputer on the X feature and the testing data."
   ]
  },
  {
   "cell_type": "code",
   "execution_count": 116,
   "id": "a0ed63eb",
   "metadata": {},
   "outputs": [
    {
     "data": {
      "text/plain": [
       "(PassengerId    0\n",
       " Pclass         0\n",
       " Age            0\n",
       " SibSp          0\n",
       " Parch          0\n",
       " Fare           0\n",
       " Name           0\n",
       " Sex            0\n",
       " Ticket         0\n",
       " Cabin          0\n",
       " Embarked       0\n",
       " dtype: int64,\n",
       " PassengerId    0\n",
       " Pclass         0\n",
       " Age            0\n",
       " SibSp          0\n",
       " Parch          0\n",
       " Fare           0\n",
       " Name           0\n",
       " Sex            0\n",
       " Ticket         0\n",
       " Cabin          0\n",
       " Embarked       0\n",
       " dtype: int64)"
      ]
     },
     "execution_count": 116,
     "metadata": {},
     "output_type": "execute_result"
    }
   ],
   "source": [
    "# Impute the missing values\n",
    "age_imp = SimpleImputer(strategy = 'median')\n",
    "cab_imp = SimpleImputer(strategy = 'constant', fill_value = 'missing')\n",
    "\n",
    "# Define the features\n",
    "num_feat = ['PassengerId', 'Pclass', 'Age', 'SibSp', 'Parch', 'Fare']\n",
    "cat_feat = ['Name', 'Sex', 'Ticket', 'Cabin', 'Embarked']\n",
    "\n",
    "# Imputer function\n",
    "imputer = ColumnTransformer([\n",
    "    ('age_imp', age_imp, num_feat),\n",
    "    ('cab_imp', cab_imp, cat_feat)\n",
    "])\n",
    "\n",
    "# Fit and transform the training data\n",
    "filled_data_train = imputer.fit_transform(X)\n",
    "\n",
    "# Transform on the test data\n",
    "filled_data_test = imputer.transform(passenger_data_test_df_copy)\n",
    "\n",
    "# Convert into a dataframe\n",
    "filled_passenger_data_train_df_copy = pd.DataFrame(filled_data_train, columns = ['PassengerId', 'Pclass', 'Age', \n",
    "                                                                                 'SibSp', 'Parch', 'Fare', 'Name',\n",
    "                                                                                 'Sex', 'Ticket', 'Cabin', 'Embarked'])\n",
    "\n",
    "filled_passenger_data_test_df_copy = pd.DataFrame(filled_data_test, columns = ['PassengerId', 'Pclass', 'Age', \n",
    "                                                                                 'SibSp', 'Parch', 'Fare', 'Name',\n",
    "                                                                                 'Sex', 'Ticket', 'Cabin', 'Embarked'])\n",
    "\n",
    "# Check\n",
    "filled_passenger_data_train_df_copy.isna().sum(), filled_passenger_data_test_df_copy.isna().sum()"
   ]
  },
  {
   "cell_type": "markdown",
   "id": "397612de",
   "metadata": {},
   "source": [
    "### 2.4.4 One Hot Encoding Non-Numerical Features into Numerical\n",
    "\n",
    "Using OneHotEncoder function on the X features and the test data"
   ]
  },
  {
   "cell_type": "code",
   "execution_count": 118,
   "id": "06a6e6af",
   "metadata": {
    "scrolled": true
   },
   "outputs": [
    {
     "data": {
      "text/plain": [
       "(array([[ 0.    ,  0.    ,  0.    , ...,  1.    ,  0.    ,  7.25  ],\n",
       "        [ 0.    ,  0.    ,  0.    , ...,  1.    ,  0.    , 71.2833],\n",
       "        [ 0.    ,  0.    ,  0.    , ...,  0.    ,  0.    ,  7.925 ],\n",
       "        ...,\n",
       "        [ 0.    ,  0.    ,  0.    , ...,  1.    ,  2.    , 23.45  ],\n",
       "        [ 0.    ,  0.    ,  0.    , ...,  0.    ,  0.    , 30.    ],\n",
       "        [ 0.    ,  0.    ,  0.    , ...,  0.    ,  0.    ,  7.75  ]]),\n",
       " array([[ 0.    ,  0.    ,  0.    , ...,  0.    ,  0.    ,  7.8292],\n",
       "        [ 0.    ,  0.    ,  0.    , ...,  1.    ,  0.    ,  7.    ],\n",
       "        [ 0.    ,  0.    ,  0.    , ...,  0.    ,  0.    ,  9.6875],\n",
       "        ...,\n",
       "        [ 0.    ,  0.    ,  0.    , ...,  0.    ,  0.    ,  7.25  ],\n",
       "        [ 0.    ,  0.    ,  0.    , ...,  0.    ,  0.    ,  8.05  ],\n",
       "        [ 0.    ,  0.    ,  0.    , ...,  1.    ,  1.    , 22.3583]]))"
      ]
     },
     "execution_count": 118,
     "metadata": {},
     "output_type": "execute_result"
    }
   ],
   "source": [
    "# Data encoding\n",
    "one_hot = OneHotEncoder(handle_unknown = 'ignore')\n",
    "\n",
    "# Define the categories\n",
    "categorical_features = ['Name', 'Sex', 'Ticket', 'Cabin', 'Embarked']\n",
    "\n",
    "# Transformer\n",
    "transformer = ColumnTransformer([\n",
    "    ('one_hot', one_hot, categorical_features)\n",
    "], remainder = 'passthrough')\n",
    "\n",
    "# fit and transform the training data\n",
    "transformed_passenger_data_train_df_copy = transformer.fit_transform(filled_passenger_data_train_df_copy)\n",
    "\n",
    "# transform the test \n",
    "transformed_passenger_data_test_df_copy = transformer.transform(filled_passenger_data_test_df_copy)\n",
    "\n",
    "# Check\n",
    "transformed_passenger_data_train_df_copy.toarray(), transformed_passenger_data_test_df_copy.toarray()"
   ]
  },
  {
   "cell_type": "markdown",
   "id": "9d5d17ae",
   "metadata": {},
   "source": [
    "### 2.4.5 Splitting the Data into Training and Validation Splits\n",
    "\n",
    "This is important to split the data into X and y so that whenever we implement a machine learning model/algorithm, the training and test data splits will be different and not contain data leakages/biases."
   ]
  },
  {
   "cell_type": "code",
   "execution_count": 119,
   "id": "dd4c49f5",
   "metadata": {},
   "outputs": [
    {
     "data": {
      "text/plain": [
       "(   PassengerId  Pclass                                               Name  \\\n",
       " 0            1       3                            Braund, Mr. Owen Harris   \n",
       " 1            2       1  Cumings, Mrs. John Bradley (Florence Briggs Th...   \n",
       " 2            3       3                             Heikkinen, Miss. Laina   \n",
       " 3            4       1       Futrelle, Mrs. Jacques Heath (Lily May Peel)   \n",
       " 4            5       3                           Allen, Mr. William Henry   \n",
       " \n",
       "       Sex   Age  SibSp  Parch            Ticket     Fare Cabin Embarked  \n",
       " 0    male  22.0      1      0         A/5 21171   7.2500   NaN        S  \n",
       " 1  female  38.0      1      0          PC 17599  71.2833   C85        C  \n",
       " 2  female  26.0      0      0  STON/O2. 3101282   7.9250   NaN        S  \n",
       " 3  female  35.0      1      0            113803  53.1000  C123        S  \n",
       " 4    male  35.0      0      0            373450   8.0500   NaN        S  ,\n",
       " (891, 11))"
      ]
     },
     "execution_count": 119,
     "metadata": {},
     "output_type": "execute_result"
    }
   ],
   "source": [
    "# Check the shape of the feature and label\n",
    "X.head(), X.shape"
   ]
  },
  {
   "cell_type": "code",
   "execution_count": 120,
   "id": "1d9e751d",
   "metadata": {},
   "outputs": [
    {
     "data": {
      "text/plain": [
       "(0    0\n",
       " 1    1\n",
       " 2    1\n",
       " 3    1\n",
       " 4    0\n",
       " Name: Survived, dtype: int64,\n",
       " (891,))"
      ]
     },
     "execution_count": 120,
     "metadata": {},
     "output_type": "execute_result"
    }
   ],
   "source": [
    "y.head(), y.shape"
   ]
  },
  {
   "cell_type": "code",
   "execution_count": 121,
   "id": "85bd3209",
   "metadata": {},
   "outputs": [
    {
     "data": {
      "text/plain": [
       "(((712, 1732), (712,)), ((179, 1732), (179,)))"
      ]
     },
     "execution_count": 121,
     "metadata": {},
     "output_type": "execute_result"
    }
   ],
   "source": [
    "# Training split (80%), Validation split (20%)\n",
    "\n",
    "# Training and Test split\n",
    "X_train, X_val, y_train, y_val = train_test_split(transformed_passenger_data_train_df_copy, \n",
    "                                                  y, \n",
    "                                                  test_size = 0.20, # val split = 20%, training = 80%\n",
    "                                                  random_state = 42) # shuffled the data into the pseudo generated number\n",
    "# Check the training and validation data shape\n",
    "(X_train.shape, y_train.shape), (X_val.shape, y_val.shape)"
   ]
  },
  {
   "cell_type": "markdown",
   "id": "f8639165",
   "metadata": {},
   "source": [
    "## 3.0 Adding a Machine Learning Model\n",
    "\n",
    "The project is to classfiy whether the passenger has survived or not from the sinking of the ship. Since it is a classification problem, there are 3 ML Models in the Classification category that can be used to check which model will give a better score. \n",
    "\n",
    "* Roadmap to choose which algorithm is best: https://scikit-learn.org/stable/tutorial/machine_learning_map/index.html"
   ]
  },
  {
   "cell_type": "markdown",
   "id": "dd966b5e",
   "metadata": {},
   "source": [
    "### 3.1 Linear SVC Model/Algorithm"
   ]
  },
  {
   "cell_type": "code",
   "execution_count": 130,
   "id": "698f5882",
   "metadata": {},
   "outputs": [
    {
     "name": "stderr",
     "output_type": "stream",
     "text": [
      "C:\\Users\\ahmed\\Desktop\\Machine-Learning-Course\\Titanic-Project\\env\\lib\\site-packages\\sklearn\\svm\\_base.py:1244: ConvergenceWarning: Liblinear failed to converge, increase the number of iterations.\n",
      "  warnings.warn(\n"
     ]
    },
    {
     "data": {
      "text/plain": [
       "0.7932960893854749"
      ]
     },
     "execution_count": 130,
     "metadata": {},
     "output_type": "execute_result"
    }
   ],
   "source": [
    "# Model is imported in the first section.\n",
    "\n",
    "# Instantiate\n",
    "clf_svc = LinearSVC(random_state=42)\n",
    "\n",
    "# Fit the classifier to the training data\n",
    "clf_svc.fit(X_train, y_train)\n",
    "\n",
    "# Score the classifier model to the validation data\n",
    "clf_svc_score = clf_svc.score(X_val, y_val)\n",
    "clf_svc_score"
   ]
  },
  {
   "cell_type": "markdown",
   "id": "f041241e",
   "metadata": {},
   "source": [
    "### 3.2 KNeighbors Classifier Model"
   ]
  },
  {
   "cell_type": "code",
   "execution_count": 131,
   "id": "afd2a9af",
   "metadata": {},
   "outputs": [
    {
     "data": {
      "text/plain": [
       "0.659217877094972"
      ]
     },
     "execution_count": 131,
     "metadata": {},
     "output_type": "execute_result"
    }
   ],
   "source": [
    "# Model is already imported\n",
    "\n",
    "# Setup random seed\n",
    "np.random.seed(42)\n",
    "\n",
    "# Instantiate the model\n",
    "clf_KNN = KNeighborsClassifier()\n",
    "\n",
    "# Fit the model to the training data\n",
    "clf_KNN.fit(X_train, y_train)\n",
    "\n",
    "# Score the model to the validation data\n",
    "clf_KNN_score = clf_KNN.score(X_val, y_val)\n",
    "clf_KNN_score"
   ]
  },
  {
   "cell_type": "markdown",
   "id": "c98858e9",
   "metadata": {},
   "source": [
    "### 3.3 Random Forest Classifier Model"
   ]
  },
  {
   "cell_type": "code",
   "execution_count": 132,
   "id": "2a8e6344",
   "metadata": {},
   "outputs": [
    {
     "data": {
      "text/plain": [
       "0.8100558659217877"
      ]
     },
     "execution_count": 132,
     "metadata": {},
     "output_type": "execute_result"
    }
   ],
   "source": [
    "# Model is already imported\n",
    "\n",
    "# Instantiate the mode\n",
    "clf = RandomForestClassifier(random_state = 42)\n",
    "\n",
    "# Fit the model to the training data\n",
    "clf.fit(X_train, y_train)\n",
    "\n",
    "# Score the model to the valid data\n",
    "clf_score = clf.score(X_val, y_val)\n",
    "clf_score"
   ]
  },
  {
   "cell_type": "code",
   "execution_count": 133,
   "id": "b3503754",
   "metadata": {},
   "outputs": [
    {
     "data": {
      "text/plain": [
       "1.0"
      ]
     },
     "execution_count": 133,
     "metadata": {},
     "output_type": "execute_result"
    }
   ],
   "source": [
    "clf.score(X_train, y_train)"
   ]
  },
  {
   "cell_type": "markdown",
   "id": "1ab1852a",
   "metadata": {},
   "source": [
    "### 3.4 Model Comparisons\n",
    "\n",
    "We are now going to compare the different scores of the model to each other and visualize it"
   ]
  },
  {
   "cell_type": "code",
   "execution_count": 134,
   "id": "f9668687",
   "metadata": {},
   "outputs": [
    {
     "data": {
      "image/png": "[encoded data removed]",
      "text/plain": [
       "<Figure size 1000x1000 with 1 Axes>"
      ]
     },
     "metadata": {},
     "output_type": "display_data"
    }
   ],
   "source": [
    "model_comparison = pd.DataFrame({\n",
    "    'RandomForestClassifier' : clf_score,\n",
    "    'KNearestNeighbors' : clf_KNN_score,\n",
    "    'Linear SVC' : clf_svc_score\n",
    "}, index = ['Models'])\n",
    "\n",
    "model_comparison.plot.bar(figsize = (10,10));"
   ]
  },
  {
   "cell_type": "markdown",
   "id": "cbe20f30",
   "metadata": {},
   "source": [
    "As shown above, the `RandomForestClassifier()` performs the best while `LinearSVC()` is second and `KNN()` is last. The next step is to improve the `RandomForestClassifier` model and score it again so that we will see how the model has improved."
   ]
  },
  {
   "cell_type": "markdown",
   "id": "d69eb5b8",
   "metadata": {},
   "source": [
    "## 4.0 Make predictions using a machine learning model\n",
    "\n",
    "* The predictions are made on the `X_val` data so that you can compare it with the `y_val` data and generally there are 2 ways you can make predictions:\n",
    "1) `predict()` method\n",
    "2) `predict_proba()` method\n",
    "\n",
    "So in order to make those predictions we will need `accuracy_score()` and `mean_absolute_error()` which will be imported in the first section.\n",
    "\n",
    "The machine learning model/estimator will be `RandomForestClassifier()`"
   ]
  },
  {
   "cell_type": "markdown",
   "id": "845b617a",
   "metadata": {},
   "source": [
    "### 4.1 Using Predict Method"
   ]
  },
  {
   "cell_type": "code",
   "execution_count": 138,
   "id": "7665e20b",
   "metadata": {},
   "outputs": [],
   "source": [
    "# First lets instantiate prediction\n",
    "y_val_preds = clf.predict(X_val)"
   ]
  },
  {
   "cell_type": "markdown",
   "id": "f594773d",
   "metadata": {},
   "source": [
    "#### Accuracy Score"
   ]
  },
  {
   "cell_type": "code",
   "execution_count": 139,
   "id": "909d7364",
   "metadata": {},
   "outputs": [
    {
     "data": {
      "text/plain": [
       "0.8100558659217877"
      ]
     },
     "execution_count": 139,
     "metadata": {},
     "output_type": "execute_result"
    }
   ],
   "source": [
    "acc_score = accuracy_score(y_val, y_val_preds)\n",
    "acc_score"
   ]
  },
  {
   "cell_type": "markdown",
   "id": "06ced682",
   "metadata": {},
   "source": [
    "#### Mean Absolute Error"
   ]
  },
  {
   "cell_type": "code",
   "execution_count": 140,
   "id": "96668d2e",
   "metadata": {},
   "outputs": [
    {
     "data": {
      "text/plain": [
       "0.18994413407821228"
      ]
     },
     "execution_count": 140,
     "metadata": {},
     "output_type": "execute_result"
    }
   ],
   "source": [
    "# This is for regression problem\n",
    "mae = mean_absolute_error(y_val, y_val_preds)\n",
    "mae"
   ]
  },
  {
   "cell_type": "markdown",
   "id": "9c10bb7e",
   "metadata": {},
   "source": [
    "### 4.2 Using Predict_Proba Method"
   ]
  },
  {
   "cell_type": "code",
   "execution_count": 141,
   "id": "23000f88",
   "metadata": {},
   "outputs": [
    {
     "data": {
      "text/html": [
       "<div>\n",
       "<style scoped>\n",
       "    .dataframe tbody tr th:only-of-type {\n",
       "        vertical-align: middle;\n",
       "    }\n",
       "\n",
       "    .dataframe tbody tr th {\n",
       "        vertical-align: top;\n",
       "    }\n",
       "\n",
       "    .dataframe thead th {\n",
       "        text-align: right;\n",
       "    }\n",
       "</style>\n",
       "<table border=\"1\" class=\"dataframe\">\n",
       "  <thead>\n",
       "    <tr style=\"text-align: right;\">\n",
       "      <th></th>\n",
       "      <th>Not Survived</th>\n",
       "      <th>Survived</th>\n",
       "    </tr>\n",
       "  </thead>\n",
       "  <tbody>\n",
       "    <tr>\n",
       "      <th>0</th>\n",
       "      <td>0.79</td>\n",
       "      <td>0.21</td>\n",
       "    </tr>\n",
       "    <tr>\n",
       "      <th>1</th>\n",
       "      <td>0.99</td>\n",
       "      <td>0.01</td>\n",
       "    </tr>\n",
       "    <tr>\n",
       "      <th>2</th>\n",
       "      <td>0.95</td>\n",
       "      <td>0.05</td>\n",
       "    </tr>\n",
       "    <tr>\n",
       "      <th>3</th>\n",
       "      <td>0.12</td>\n",
       "      <td>0.88</td>\n",
       "    </tr>\n",
       "    <tr>\n",
       "      <th>4</th>\n",
       "      <td>0.47</td>\n",
       "      <td>0.53</td>\n",
       "    </tr>\n",
       "    <tr>\n",
       "      <th>5</th>\n",
       "      <td>0.09</td>\n",
       "      <td>0.91</td>\n",
       "    </tr>\n",
       "    <tr>\n",
       "      <th>6</th>\n",
       "      <td>0.27</td>\n",
       "      <td>0.73</td>\n",
       "    </tr>\n",
       "    <tr>\n",
       "      <th>7</th>\n",
       "      <td>0.96</td>\n",
       "      <td>0.04</td>\n",
       "    </tr>\n",
       "    <tr>\n",
       "      <th>8</th>\n",
       "      <td>0.34</td>\n",
       "      <td>0.66</td>\n",
       "    </tr>\n",
       "    <tr>\n",
       "      <th>9</th>\n",
       "      <td>0.13</td>\n",
       "      <td>0.87</td>\n",
       "    </tr>\n",
       "  </tbody>\n",
       "</table>\n",
       "</div>"
      ],
      "text/plain": [
       "   Not Survived  Survived\n",
       "0          0.79      0.21\n",
       "1          0.99      0.01\n",
       "2          0.95      0.05\n",
       "3          0.12      0.88\n",
       "4          0.47      0.53\n",
       "5          0.09      0.91\n",
       "6          0.27      0.73\n",
       "7          0.96      0.04\n",
       "8          0.34      0.66\n",
       "9          0.13      0.87"
      ]
     },
     "execution_count": 141,
     "metadata": {},
     "output_type": "execute_result"
    }
   ],
   "source": [
    "# Lets instantiate \n",
    "y_val_pred_proba = clf.predict_proba(X_val)\n",
    "y_val_pred_proba\n",
    "\n",
    "# Convert into a DataFrame\n",
    "# Predicted probabilities that whether the passenger survived or not will be a float value.\n",
    "predicted_probabilities = pd.DataFrame(y_val_pred_proba, columns = ['Not Survived', 'Survived'])\n",
    "predicted_probabilities[:10]"
   ]
  },
  {
   "cell_type": "markdown",
   "id": "87c0b164",
   "metadata": {},
   "source": [
    "## 5.0 🧪 Evaluating a machine learning model\n",
    "\n",
    "* There are generally 3 ways to perform the evaluation of a machine learning model:\n",
    "1) Using the estimator's (model) built-in `score()` method.\n",
    "2) Using the `scoring()` parameter.\n",
    "3) Problem specific metric functions.\n",
    "\n",
    "* The resource link can be found here:https://scikit-learn.org/stable/modules/model_evaluation.html"
   ]
  },
  {
   "cell_type": "markdown",
   "id": "0cb1a2b9",
   "metadata": {},
   "source": [
    "### 5.1 Using `score()` method"
   ]
  },
  {
   "cell_type": "code",
   "execution_count": 142,
   "id": "33f1c6d1",
   "metadata": {},
   "outputs": [
    {
     "data": {
      "text/plain": [
       "0.8100558659217877"
      ]
     },
     "execution_count": 142,
     "metadata": {},
     "output_type": "execute_result"
    }
   ],
   "source": [
    "# The estimator is RandomForestClassifier\n",
    "clf = RandomForestClassifier(n_estimators = 1000,\n",
    "                             random_state = 42)\n",
    "\n",
    "# Fit the model to the training data\n",
    "clf.fit(X_train, y_train)\n",
    "\n",
    "# Score the model on the validation data\n",
    "clf.score(X_val, y_val)"
   ]
  },
  {
   "cell_type": "markdown",
   "id": "2e0ca591",
   "metadata": {},
   "source": [
    "The built-in `score()` method is generally the same as the `accuracy_score()` method"
   ]
  },
  {
   "cell_type": "markdown",
   "id": "7d75112a",
   "metadata": {},
   "source": [
    "### 5.2 Using the `Scoring()` Parameter\n",
    "\n",
    "The scoring parameter is done by using tools such as `cross_val_score()` and `GridSearchCV()`. \n",
    "\n",
    "* The resource link for that is found below\n",
    "\n",
    "1) **Cross Val Score:** https://scikit-learn.org/stable/modules/generated/sklearn.model_selection.cross_val_score.html#sklearn.model_selection.cross_val_score\n",
    " \n",
    "2) **GridSearchCV:** https://scikit-learn.org/stable/modules/generated/sklearn.model_selection.GridSearchCV.html#sklearn.model_selection.GridSearchCV \n",
    "\n",
    "There are other metrics that can be implemented in the `cross_val_score()` and `GridSearchCV()` parameter to improve and control what metric it is applied to the estimator.\n",
    "\n",
    "* The resource link can be found here: https://scikit-learn.org/stable/modules/model_evaluation.html#scoring-parameter"
   ]
  },
  {
   "cell_type": "markdown",
   "id": "5f023506",
   "metadata": {},
   "source": [
    "#### Cross Val Score \n",
    "\n",
    "* Scoring = None (by default, it will be the estimators/models built-in score() method)"
   ]
  },
  {
   "cell_type": "code",
   "execution_count": 144,
   "id": "bd757678",
   "metadata": {},
   "outputs": [
    {
     "data": {
      "text/plain": [
       "0.8100558659217877"
      ]
     },
     "execution_count": 144,
     "metadata": {},
     "output_type": "execute_result"
    }
   ],
   "source": [
    "# Instantiate Random Forest Classifier\n",
    "clf = RandomForestClassifier(n_estimators = 1000,\n",
    "                             random_state = 42)\n",
    "\n",
    "# Fit the model to the training data\n",
    "clf.fit(X_train, y_train)\n",
    "\n",
    "# Score the model to the valid data\n",
    "clf.score(X_val, y_val)"
   ]
  },
  {
   "cell_type": "code",
   "execution_count": 146,
   "id": "01756fe1",
   "metadata": {},
   "outputs": [
    {
     "data": {
      "text/plain": [
       "array([0.82517483, 0.83216783, 0.80985915, 0.78873239, 0.83802817])"
      ]
     },
     "execution_count": 146,
     "metadata": {},
     "output_type": "execute_result"
    }
   ],
   "source": [
    "# Cross Val Score \n",
    "scores = cross_val_score(clf,\n",
    "                         X = X_train, \n",
    "                         y = y_train, \n",
    "                         cv = 5)\n",
    "\n",
    "# check the scores\n",
    "scores"
   ]
  },
  {
   "cell_type": "code",
   "execution_count": 147,
   "id": "42ab00f3",
   "metadata": {},
   "outputs": [
    {
     "data": {
      "text/plain": [
       "(0.8100558659217877, 0.8187924751305033)"
      ]
     },
     "execution_count": 147,
     "metadata": {},
     "output_type": "execute_result"
    }
   ],
   "source": [
    "# Compare single score with the mean of the cross val score\n",
    "clf_single_score = clf.score(X_val, y_val)\n",
    "\n",
    "# Mean of the cross val score\n",
    "clf_cross_val_score = np.mean(cross_val_score(clf, X = X_train, y = y_train, cv = 5))\n",
    "\n",
    "# Compare the two\n",
    "clf_single_score, clf_cross_val_score"
   ]
  },
  {
   "cell_type": "code",
   "execution_count": 148,
   "id": "e5c01ffe",
   "metadata": {},
   "outputs": [
    {
     "data": {
      "text/plain": [
       "array([0.82517483, 0.83216783, 0.80985915, 0.78873239, 0.83802817])"
      ]
     },
     "execution_count": 148,
     "metadata": {},
     "output_type": "execute_result"
    }
   ],
   "source": [
    "# Scoring parameter set to None\n",
    "cross_val_score(clf,\n",
    "                X = X_train,\n",
    "                y = y_train,\n",
    "                cv = 5,\n",
    "                scoring = None)"
   ]
  },
  {
   "cell_type": "markdown",
   "id": "57883e5a",
   "metadata": {},
   "source": [
    "### 5.2.1 Classification Model Evaluation Metrics\n",
    "\n",
    "1) Accuracy\n",
    "2) Classification Report\n",
    "3) Confusion Matrix/ Confusion Matrix Display\n",
    "4) Area Under ROC Curve"
   ]
  },
  {
   "cell_type": "markdown",
   "id": "8b058014",
   "metadata": {},
   "source": [
    "#### Accuracy"
   ]
  },
  {
   "cell_type": "code",
   "execution_count": 149,
   "id": "db7267d4",
   "metadata": {},
   "outputs": [
    {
     "name": "stdout",
     "output_type": "stream",
     "text": [
      "Titanic Sinking Ship Survived Cross-Validated Accuracy is:81.88%\n"
     ]
    }
   ],
   "source": [
    "# Random Forest Classifier model\n",
    "clf = RandomForestClassifier(n_estimators = 1000,\n",
    "                             n_jobs = -1,\n",
    "                             random_state = 42)\n",
    "\n",
    "# Cross val score\n",
    "acc = np.mean(cross_val_score(clf, \n",
    "                              X = X_train,\n",
    "                              y = y_train,\n",
    "                              cv = 5))\n",
    "\n",
    "print(f'Titanic Sinking Ship Survived Cross-Validated Accuracy is:{acc * 100 :.2f}%')"
   ]
  },
  {
   "cell_type": "markdown",
   "id": "31eb6668",
   "metadata": {},
   "source": [
    "#### Classification Report\n"
   ]
  },
  {
   "cell_type": "code",
   "execution_count": 150,
   "id": "b8301f33",
   "metadata": {},
   "outputs": [],
   "source": [
    "# Instantiate the RandomForest Classifier\n",
    "clf = RandomForestClassifier(n_estimators=1000,\n",
    "                             random_state=42,\n",
    "                             n_jobs=-1)\n",
    "\n",
    "# Fit the classifier model to the training data\n",
    "clf.fit(X_train, y_train)\n",
    "\n",
    "# Make the y_val_preds\n",
    "y_val_preds = clf.predict(X_val)"
   ]
  },
  {
   "cell_type": "code",
   "execution_count": 151,
   "id": "6b777d11",
   "metadata": {},
   "outputs": [
    {
     "name": "stdout",
     "output_type": "stream",
     "text": [
      "              precision    recall  f1-score   support\n",
      "\n",
      "           0       0.80      0.90      0.85       105\n",
      "           1       0.82      0.69      0.75        74\n",
      "\n",
      "    accuracy                           0.81       179\n",
      "   macro avg       0.81      0.79      0.80       179\n",
      "weighted avg       0.81      0.81      0.81       179\n",
      "\n"
     ]
    }
   ],
   "source": [
    "# Already imported the class metrics with method/function classification report\n",
    "class_report = classification_report(y_val, y_val_preds)\n",
    "\n",
    "print(class_report)"
   ]
  },
  {
   "cell_type": "code",
   "execution_count": 152,
   "id": "6a57576a",
   "metadata": {},
   "outputs": [
    {
     "data": {
      "text/html": [
       "<div>\n",
       "<style scoped>\n",
       "    .dataframe tbody tr th:only-of-type {\n",
       "        vertical-align: middle;\n",
       "    }\n",
       "\n",
       "    .dataframe tbody tr th {\n",
       "        vertical-align: top;\n",
       "    }\n",
       "\n",
       "    .dataframe thead th {\n",
       "        text-align: right;\n",
       "    }\n",
       "</style>\n",
       "<table border=\"1\" class=\"dataframe\">\n",
       "  <thead>\n",
       "    <tr style=\"text-align: right;\">\n",
       "      <th></th>\n",
       "      <th>0</th>\n",
       "      <th>1</th>\n",
       "      <th>accuracy</th>\n",
       "      <th>macro avg</th>\n",
       "      <th>weighted avg</th>\n",
       "    </tr>\n",
       "  </thead>\n",
       "  <tbody>\n",
       "    <tr>\n",
       "      <th>precision</th>\n",
       "      <td>0.803419</td>\n",
       "      <td>0.822581</td>\n",
       "      <td>0.810056</td>\n",
       "      <td>0.813000</td>\n",
       "      <td>0.811340</td>\n",
       "    </tr>\n",
       "    <tr>\n",
       "      <th>recall</th>\n",
       "      <td>0.895238</td>\n",
       "      <td>0.689189</td>\n",
       "      <td>0.810056</td>\n",
       "      <td>0.792214</td>\n",
       "      <td>0.810056</td>\n",
       "    </tr>\n",
       "    <tr>\n",
       "      <th>f1-score</th>\n",
       "      <td>0.846847</td>\n",
       "      <td>0.750000</td>\n",
       "      <td>0.810056</td>\n",
       "      <td>0.798423</td>\n",
       "      <td>0.806810</td>\n",
       "    </tr>\n",
       "    <tr>\n",
       "      <th>support</th>\n",
       "      <td>105.000000</td>\n",
       "      <td>74.000000</td>\n",
       "      <td>0.810056</td>\n",
       "      <td>179.000000</td>\n",
       "      <td>179.000000</td>\n",
       "    </tr>\n",
       "  </tbody>\n",
       "</table>\n",
       "</div>"
      ],
      "text/plain": [
       "                    0          1  accuracy   macro avg  weighted avg\n",
       "precision    0.803419   0.822581  0.810056    0.813000      0.811340\n",
       "recall       0.895238   0.689189  0.810056    0.792214      0.810056\n",
       "f1-score     0.846847   0.750000  0.810056    0.798423      0.806810\n",
       "support    105.000000  74.000000  0.810056  179.000000    179.000000"
      ]
     },
     "execution_count": 152,
     "metadata": {},
     "output_type": "execute_result"
    }
   ],
   "source": [
    "# Convert into a DataFrame\n",
    "pd.DataFrame(classification_report(y_val, y_val_preds, output_dict=True))"
   ]
  },
  {
   "cell_type": "markdown",
   "id": "6b8aa7f3",
   "metadata": {},
   "source": [
    "#### Confusion Matrix/ Confusion Matrix Display\n",
    "\n",
    "The confusion matrix resource link: https://scikit-learn.org/stable/modules/generated/sklearn.metrics.confusion_matrix.html#sklearn.metrics.confusion_matrix\n",
    "\n",
    "\n",
    "The confusion matrix display is made from the scikit-learn newer versions (+1.0) and there are of two types:\n",
    "1) `from_estimator()`\n",
    "2) `from_predictions()`\n",
    "\n",
    "The resources for both of these classes are found here: https://scikit-learn.org/stable/modules/generated/sklearn.metrics.ConfusionMatrixDisplay.html#sklearn.metrics.ConfusionMatrixDisplay"
   ]
  },
  {
   "cell_type": "code",
   "execution_count": 153,
   "id": "f90cf0bf",
   "metadata": {},
   "outputs": [
    {
     "data": {
      "text/plain": [
       "array([[94, 11],\n",
       "       [23, 51]], dtype=int64)"
      ]
     },
     "execution_count": 153,
     "metadata": {},
     "output_type": "execute_result"
    }
   ],
   "source": [
    "# Already imported confusion matrix class\n",
    "conf_matrix = confusion_matrix(y_val, y_val_preds)\n",
    "conf_matrix"
   ]
  },
  {
   "cell_type": "markdown",
   "id": "5eb623c2",
   "metadata": {},
   "source": [
    "Let's put it in cross-tab"
   ]
  },
  {
   "cell_type": "code",
   "execution_count": 154,
   "id": "a8186fa4",
   "metadata": {},
   "outputs": [
    {
     "data": {
      "text/html": [
       "<div>\n",
       "<style scoped>\n",
       "    .dataframe tbody tr th:only-of-type {\n",
       "        vertical-align: middle;\n",
       "    }\n",
       "\n",
       "    .dataframe tbody tr th {\n",
       "        vertical-align: top;\n",
       "    }\n",
       "\n",
       "    .dataframe thead th {\n",
       "        text-align: right;\n",
       "    }\n",
       "</style>\n",
       "<table border=\"1\" class=\"dataframe\">\n",
       "  <thead>\n",
       "    <tr style=\"text-align: right;\">\n",
       "      <th>Predicted Label</th>\n",
       "      <th>0</th>\n",
       "      <th>1</th>\n",
       "    </tr>\n",
       "    <tr>\n",
       "      <th>True Label</th>\n",
       "      <th></th>\n",
       "      <th></th>\n",
       "    </tr>\n",
       "  </thead>\n",
       "  <tbody>\n",
       "    <tr>\n",
       "      <th>0</th>\n",
       "      <td>94</td>\n",
       "      <td>11</td>\n",
       "    </tr>\n",
       "    <tr>\n",
       "      <th>1</th>\n",
       "      <td>23</td>\n",
       "      <td>51</td>\n",
       "    </tr>\n",
       "  </tbody>\n",
       "</table>\n",
       "</div>"
      ],
      "text/plain": [
       "Predicted Label   0   1\n",
       "True Label             \n",
       "0                94  11\n",
       "1                23  51"
      ]
     },
     "execution_count": 154,
     "metadata": {},
     "output_type": "execute_result"
    }
   ],
   "source": [
    "pd.crosstab(y_val, y_val_preds, rownames = ['True Label'], colnames = ['Predicted Label'])"
   ]
  },
  {
   "cell_type": "markdown",
   "id": "083d7279",
   "metadata": {},
   "source": [
    "#### Confusion Matrix Display"
   ]
  },
  {
   "cell_type": "code",
   "execution_count": 155,
   "id": "ac70277c",
   "metadata": {},
   "outputs": [
    {
     "data": {
      "image/png": "[encoded data removed]",
      "text/plain": [
       "<Figure size 640x480 with 2 Axes>"
      ]
     },
     "metadata": {},
     "output_type": "display_data"
    }
   ],
   "source": [
    "# From estimator \n",
    "conf_matrix_est = ConfusionMatrixDisplay.from_estimator(clf,\n",
    "                                                        X = X_train,\n",
    "                                                        y = y_train,\n",
    "                                                        values_format = 'd',\n",
    "                                                        cmap = 'inferno');\n",
    "plt.grid(False)"
   ]
  },
  {
   "cell_type": "code",
   "execution_count": 156,
   "id": "eb5cd9ff",
   "metadata": {},
   "outputs": [
    {
     "data": {
      "image/png": "[encoded data removed]",
      "text/plain": [
       "<Figure size 640x480 with 2 Axes>"
      ]
     },
     "metadata": {},
     "output_type": "display_data"
    }
   ],
   "source": [
    "# From predictions\n",
    "conf_matrix_preds = ConfusionMatrixDisplay.from_predictions(y_val, y_val_preds, cmap = 'YlOrRd', colorbar = True)\n",
    "plt.grid(False)"
   ]
  },
  {
   "cell_type": "markdown",
   "id": "6606a2f6",
   "metadata": {},
   "source": [
    "#### Area Under Receiving Operating Characteristics (AUC/ROC) Curve\n",
    "\n",
    "* Area Under Curve (AUC)\n",
    "* ROC Curve\n",
    "\n",
    "ROC Curve are comparisons of a model's true positive rate (tpr) vs a model's false positive rate (fpr)\n",
    "\n",
    "* True Positive = Model predicts 1 when Truth is 1\n",
    "* False Positive = Model predicts 1 when Truth is 0\n",
    "* True Negative = Model predicts 0 when Truth is 0\n",
    "* False Negative = Model predicts 0 when Truth is 1"
   ]
  },
  {
   "cell_type": "code",
   "execution_count": 157,
   "id": "88929fb0",
   "metadata": {},
   "outputs": [
    {
     "data": {
      "text/plain": [
       "(array([[0.787, 0.213],\n",
       "        [0.97 , 0.03 ],\n",
       "        [0.96 , 0.04 ],\n",
       "        [0.131, 0.869],\n",
       "        [0.445, 0.555],\n",
       "        [0.114, 0.886],\n",
       "        [0.269, 0.731],\n",
       "        [0.945, 0.055],\n",
       "        [0.297, 0.703],\n",
       "        [0.162, 0.838]]),\n",
       " 179)"
      ]
     },
     "execution_count": 157,
     "metadata": {},
     "output_type": "execute_result"
    }
   ],
   "source": [
    "# Imported ROC curve\n",
    "\n",
    "# Fit the classifier\n",
    "clf.fit(X_train, y_train)\n",
    "\n",
    "# Make predictions on the validation data\n",
    "y_val_probs = clf.predict_proba(X_val)\n",
    "\n",
    "y_val_probs[:10], len(y_val_probs)"
   ]
  },
  {
   "cell_type": "code",
   "execution_count": 158,
   "id": "ddeab023",
   "metadata": {},
   "outputs": [
    {
     "data": {
      "text/plain": [
       "array([0.213, 0.03 , 0.04 , 0.869, 0.555, 0.886, 0.731, 0.055, 0.703,\n",
       "       0.838])"
      ]
     },
     "execution_count": 158,
     "metadata": {},
     "output_type": "execute_result"
    }
   ],
   "source": [
    "# Pick the first column array\n",
    "y_val_probs_positive = y_val_probs[:, 1]\n",
    "y_val_probs_positive[:10]"
   ]
  },
  {
   "cell_type": "code",
   "execution_count": 159,
   "id": "b151a6d9",
   "metadata": {},
   "outputs": [
    {
     "data": {
      "text/plain": [
       "array([0.        , 0.        , 0.        , 0.        , 0.        ,\n",
       "       0.        , 0.00952381, 0.00952381, 0.01904762, 0.01904762,\n",
       "       0.02857143, 0.02857143, 0.03809524, 0.03809524, 0.03809524,\n",
       "       0.03809524, 0.03809524, 0.03809524, 0.05714286, 0.05714286,\n",
       "       0.07619048, 0.07619048, 0.08571429, 0.08571429, 0.1047619 ,\n",
       "       0.1047619 , 0.11428571, 0.11428571, 0.12380952, 0.12380952,\n",
       "       0.13333333, 0.13333333, 0.17142857, 0.17142857, 0.2       ,\n",
       "       0.2       , 0.21904762, 0.21904762, 0.22857143, 0.22857143,\n",
       "       0.23809524, 0.23809524, 0.24761905, 0.25714286, 0.27619048,\n",
       "       0.2952381 , 0.3047619 , 0.31428571, 0.31428571, 0.36190476,\n",
       "       0.36190476, 0.37142857, 0.37142857, 0.38095238, 0.41904762,\n",
       "       0.46666667, 0.5047619 , 0.53333333, 0.57142857, 0.6       ,\n",
       "       0.61904762, 0.62857143, 0.63809524, 0.66666667, 0.68571429,\n",
       "       0.71428571, 0.73333333, 0.77142857, 0.78095238, 0.80952381,\n",
       "       0.84761905, 0.88571429, 0.8952381 , 0.92380952, 0.94285714,\n",
       "       0.95238095, 0.97142857, 1.        ])"
      ]
     },
     "execution_count": 159,
     "metadata": {},
     "output_type": "execute_result"
    }
   ],
   "source": [
    "# Calculate fpr, tpr, thresholds\n",
    "fpr, tpr, thresholds = roc_curve(y_val, y_val_probs_positive)\n",
    "\n",
    "# Check false positive rates\n",
    "fpr"
   ]
  },
  {
   "cell_type": "code",
   "execution_count": 160,
   "id": "d9ae30d0",
   "metadata": {},
   "outputs": [
    {
     "data": {
      "image/png": "[encoded data removed]",
      "text/plain": [
       "<Figure size 640x480 with 1 Axes>"
      ]
     },
     "metadata": {},
     "output_type": "display_data"
    }
   ],
   "source": [
    "# Create a function for plotting the roc_curve\n",
    "def plot_roc_curve(fpr, tpr):\n",
    "    '''\n",
    "    Plotting the roc curve by entering the false positive rate and true positive rate of the actual label\n",
    "    and predicted probabilites of the model.\n",
    "    '''\n",
    "    \n",
    "    # Plot roc curve\n",
    "    plt.plot(fpr, tpr, color = 'orange', label = 'ROC');\n",
    "    \n",
    "    # Customize the plot\n",
    "    plt.title('Receiving Operating Characteristics Curve')\n",
    "    plt.xlabel('False Positive Rate (fpr)')\n",
    "    plt.ylabel('True Positive Rate')\n",
    "    plt.legend()\n",
    "\n",
    "plot_roc_curve(fpr, tpr)"
   ]
  },
  {
   "cell_type": "code",
   "execution_count": 161,
   "id": "e9d74e89",
   "metadata": {},
   "outputs": [
    {
     "data": {
      "text/plain": [
       "0.8882239382239382"
      ]
     },
     "execution_count": 161,
     "metadata": {},
     "output_type": "execute_result"
    }
   ],
   "source": [
    "# roc_auc_score\n",
    "roc_auc_score(y_val, y_val_probs_positive)"
   ]
  },
  {
   "cell_type": "code",
   "execution_count": 162,
   "id": "45184922",
   "metadata": {},
   "outputs": [
    {
     "data": {
      "image/png": "[encoded data removed]",
      "text/plain": [
       "<Figure size 640x480 with 1 Axes>"
      ]
     },
     "metadata": {},
     "output_type": "display_data"
    }
   ],
   "source": [
    "# Perfect ROC curve\n",
    "fpr, tpr, thresholds = roc_curve(y_val, y_val)\n",
    "plot_roc_curve(fpr, tpr)"
   ]
  },
  {
   "cell_type": "code",
   "execution_count": 163,
   "id": "498e0dcc",
   "metadata": {},
   "outputs": [
    {
     "data": {
      "text/plain": [
       "1.0"
      ]
     },
     "execution_count": 163,
     "metadata": {},
     "output_type": "execute_result"
    }
   ],
   "source": [
    "roc_auc_score(y_val, y_val)"
   ]
  },
  {
   "cell_type": "markdown",
   "id": "d8999427",
   "metadata": {},
   "source": [
    "### 5.2.3 Using the Scoring Parameter in Cross Val Score"
   ]
  },
  {
   "cell_type": "code",
   "execution_count": 164,
   "id": "db87aae4",
   "metadata": {},
   "outputs": [
    {
     "data": {
      "text/html": [
       "<style>#sk-container-id-1 {color: black;background-color: white;}#sk-container-id-1 pre{padding: 0;}#sk-container-id-1 div.sk-toggleable {background-color: white;}#sk-container-id-1 label.sk-toggleable__label {cursor: pointer;display: block;width: 100%;margin-bottom: 0;padding: 0.3em;box-sizing: border-box;text-align: center;}#sk-container-id-1 label.sk-toggleable__label-arrow:before {content: \"▸\";float: left;margin-right: 0.25em;color: #696969;}#sk-container-id-1 label.sk-toggleable__label-arrow:hover:before {color: black;}#sk-container-id-1 div.sk-estimator:hover label.sk-toggleable__label-arrow:before {color: black;}#sk-container-id-1 div.sk-toggleable__content {max-height: 0;max-width: 0;overflow: hidden;text-align: left;background-color: #f0f8ff;}#sk-container-id-1 div.sk-toggleable__content pre {margin: 0.2em;color: black;border-radius: 0.25em;background-color: #f0f8ff;}#sk-container-id-1 input.sk-toggleable__control:checked~div.sk-toggleable__content {max-height: 200px;max-width: 100%;overflow: auto;}#sk-container-id-1 input.sk-toggleable__control:checked~label.sk-toggleable__label-arrow:before {content: \"▾\";}#sk-container-id-1 div.sk-estimator input.sk-toggleable__control:checked~label.sk-toggleable__label {background-color: #d4ebff;}#sk-container-id-1 div.sk-label input.sk-toggleable__control:checked~label.sk-toggleable__label {background-color: #d4ebff;}#sk-container-id-1 input.sk-hidden--visually {border: 0;clip: rect(1px 1px 1px 1px);clip: rect(1px, 1px, 1px, 1px);height: 1px;margin: -1px;overflow: hidden;padding: 0;position: absolute;width: 1px;}#sk-container-id-1 div.sk-estimator {font-family: monospace;background-color: #f0f8ff;border: 1px dotted black;border-radius: 0.25em;box-sizing: border-box;margin-bottom: 0.5em;}#sk-container-id-1 div.sk-estimator:hover {background-color: #d4ebff;}#sk-container-id-1 div.sk-parallel-item::after {content: \"\";width: 100%;border-bottom: 1px solid gray;flex-grow: 1;}#sk-container-id-1 div.sk-label:hover label.sk-toggleable__label {background-color: #d4ebff;}#sk-container-id-1 div.sk-serial::before {content: \"\";position: absolute;border-left: 1px solid gray;box-sizing: border-box;top: 0;bottom: 0;left: 50%;z-index: 0;}#sk-container-id-1 div.sk-serial {display: flex;flex-direction: column;align-items: center;background-color: white;padding-right: 0.2em;padding-left: 0.2em;position: relative;}#sk-container-id-1 div.sk-item {position: relative;z-index: 1;}#sk-container-id-1 div.sk-parallel {display: flex;align-items: stretch;justify-content: center;background-color: white;position: relative;}#sk-container-id-1 div.sk-item::before, #sk-container-id-1 div.sk-parallel-item::before {content: \"\";position: absolute;border-left: 1px solid gray;box-sizing: border-box;top: 0;bottom: 0;left: 50%;z-index: -1;}#sk-container-id-1 div.sk-parallel-item {display: flex;flex-direction: column;z-index: 1;position: relative;background-color: white;}#sk-container-id-1 div.sk-parallel-item:first-child::after {align-self: flex-end;width: 50%;}#sk-container-id-1 div.sk-parallel-item:last-child::after {align-self: flex-start;width: 50%;}#sk-container-id-1 div.sk-parallel-item:only-child::after {width: 0;}#sk-container-id-1 div.sk-dashed-wrapped {border: 1px dashed gray;margin: 0 0.4em 0.5em 0.4em;box-sizing: border-box;padding-bottom: 0.4em;background-color: white;}#sk-container-id-1 div.sk-label label {font-family: monospace;font-weight: bold;display: inline-block;line-height: 1.2em;}#sk-container-id-1 div.sk-label-container {text-align: center;}#sk-container-id-1 div.sk-container {/* jupyter's `normalize.less` sets `[hidden] { display: none; }` but bootstrap.min.css set `[hidden] { display: none !important; }` so we also need the `!important` here to be able to override the default hidden behavior on the sphinx rendered scikit-learn.org. See: https://github.com/scikit-learn/scikit-learn/issues/21755 */display: inline-block !important;position: relative;}#sk-container-id-1 div.sk-text-repr-fallback {display: none;}</style><div id=\"sk-container-id-1\" class=\"sk-top-container\"><div class=\"sk-text-repr-fallback\"><pre>RandomForestClassifier(n_estimators=1000, random_state=42)</pre><b>In a Jupyter environment, please rerun this cell to show the HTML representation or trust the notebook. <br />On GitHub, the HTML representation is unable to render, please try loading this page with nbviewer.org.</b></div><div class=\"sk-container\" hidden><div class=\"sk-item\"><div class=\"sk-estimator sk-toggleable\"><input class=\"sk-toggleable__control sk-hidden--visually\" id=\"sk-estimator-id-1\" type=\"checkbox\" checked><label for=\"sk-estimator-id-1\" class=\"sk-toggleable__label sk-toggleable__label-arrow\">RandomForestClassifier</label><div class=\"sk-toggleable__content\"><pre>RandomForestClassifier(n_estimators=1000, random_state=42)</pre></div></div></div></div></div>"
      ],
      "text/plain": [
       "RandomForestClassifier(n_estimators=1000, random_state=42)"
      ]
     },
     "execution_count": 164,
     "metadata": {},
     "output_type": "execute_result"
    }
   ],
   "source": [
    "# Classifier model\n",
    "clf = RandomForestClassifier(n_estimators = 1000, \n",
    "                             random_state = 42)\n",
    "\n",
    "# Fit the model\n",
    "clf.fit(X_train, y_train)"
   ]
  },
  {
   "cell_type": "code",
   "execution_count": 165,
   "id": "c718cce8",
   "metadata": {},
   "outputs": [
    {
     "name": "stdout",
     "output_type": "stream",
     "text": [
      "The cross validated accuracy is:81.88%\n"
     ]
    }
   ],
   "source": [
    "# Setup random seed\n",
    "np.random.seed(42)\n",
    "\n",
    "# Cross val score, accuracy\n",
    "cv_acc = cross_val_score(clf,\n",
    "                         X_train,\n",
    "                         y_train,\n",
    "                         cv = 5,\n",
    "                         scoring = None) # None means it will use the estimators score() \n",
    "\n",
    "# Print cross validated accuracy\n",
    "print(f'The cross validated accuracy is:{np.mean(cv_acc) * 100:.2f}%')"
   ]
  },
  {
   "cell_type": "code",
   "execution_count": 166,
   "id": "97f3f260",
   "metadata": {},
   "outputs": [
    {
     "name": "stdout",
     "output_type": "stream",
     "text": [
      "The cross validated precision is:83.44%\n"
     ]
    }
   ],
   "source": [
    "# Cross val score for precision\n",
    "\n",
    "# Setup random seed\n",
    "np.random.seed(42)\n",
    "\n",
    "# cross val score, precision\n",
    "cv_prec = cross_val_score(clf, \n",
    "                          X_train,\n",
    "                          y_train,\n",
    "                          cv = 5,\n",
    "                          scoring = 'precision')\n",
    "\n",
    "# Print cross validated precision\n",
    "print(f'The cross validated precision is:{np.mean(cv_prec) * 100:.2f}%')"
   ]
  },
  {
   "cell_type": "code",
   "execution_count": 167,
   "id": "4294eeef",
   "metadata": {},
   "outputs": [
    {
     "name": "stdout",
     "output_type": "stream",
     "text": [
      "The cross validated recall is:64.91%\n"
     ]
    }
   ],
   "source": [
    "# Cross va score for recall\n",
    "\n",
    "# Setup random seed\n",
    "np.random.seed(42)\n",
    "\n",
    "# cross val score, recall\n",
    "cv_recall = cross_val_score(clf, \n",
    "                            X_train,\n",
    "                            y_train,\n",
    "                            cv = 5,\n",
    "                            scoring = 'recall')\n",
    "\n",
    "# print cross validated recall\n",
    "print(f'The cross validated recall is:{np.mean(cv_recall) * 100:.2f}%')"
   ]
  },
  {
   "cell_type": "markdown",
   "id": "08bdbb73",
   "metadata": {},
   "source": [
    "## 5.3 Using different evaluation metrics as sklearn functions \n",
    "\n",
    "This is an another way of evaluating your machine learning model and the resource link can be found here: https://scikit-learn.org/stable/modules/classes.html#module-sklearn.metrics"
   ]
  },
  {
   "cell_type": "code",
   "execution_count": 168,
   "id": "84a8d3a6",
   "metadata": {},
   "outputs": [
    {
     "name": "stdout",
     "output_type": "stream",
     "text": [
      "Accuracy Score:81.01%\n",
      "Precision Score:82.26%\n",
      "Recall Score:0.69\n",
      "F1-Score:0.75\n"
     ]
    }
   ],
   "source": [
    "# Already imported the necessary evaluation scikit-learn tools\n",
    "\n",
    "# Instantiate the RandomForestClassifier\n",
    "clf = RandomForestClassifier(n_estimators = 1000,\n",
    "                             random_state = 42)\n",
    "\n",
    "# Fit the model to the training data\n",
    "clf.fit(X_train, y_train)\n",
    "\n",
    "# Make predictions on the validation data\n",
    "y_val_preds = clf.predict(X_val)\n",
    "\n",
    "# Print the evaluation metrics\n",
    "print(f'Accuracy Score:{accuracy_score(y_val, y_val_preds) * 100:.2f}%')\n",
    "print(f'Precision Score:{precision_score(y_val, y_val_preds) * 100:.2f}%')\n",
    "print(f'Recall Score:{recall_score(y_val, y_val_preds) :.2f}')\n",
    "print(f'F1-Score:{f1_score(y_val, y_val_preds)}')"
   ]
  },
  {
   "cell_type": "markdown",
   "id": "d900a26a",
   "metadata": {},
   "source": [
    "## 6.0 Hyperparameter Tuning (Improving) The Model\n",
    "\n",
    "There are generally 3 ways to tune the model:\n",
    "1) Hyperparameter tuning by hand\n",
    "2) Randomly by RandomizedSearchCV\n",
    "3) Exhaustively by GridSearchCV\n",
    "\n",
    "We will use the `GridSearchCV()` for better tuning and evaluations on the model  "
   ]
  },
  {
   "cell_type": "code",
   "execution_count": 169,
   "id": "af3e0a28",
   "metadata": {},
   "outputs": [
    {
     "data": {
      "text/plain": [
       "{'bootstrap': True,\n",
       " 'ccp_alpha': 0.0,\n",
       " 'class_weight': None,\n",
       " 'criterion': 'gini',\n",
       " 'max_depth': None,\n",
       " 'max_features': 'sqrt',\n",
       " 'max_leaf_nodes': None,\n",
       " 'max_samples': None,\n",
       " 'min_impurity_decrease': 0.0,\n",
       " 'min_samples_leaf': 1,\n",
       " 'min_samples_split': 2,\n",
       " 'min_weight_fraction_leaf': 0.0,\n",
       " 'n_estimators': 1000,\n",
       " 'n_jobs': None,\n",
       " 'oob_score': False,\n",
       " 'random_state': 42,\n",
       " 'verbose': 0,\n",
       " 'warm_start': False}"
      ]
     },
     "execution_count": 169,
     "metadata": {},
     "output_type": "execute_result"
    }
   ],
   "source": [
    "# Get the parameters for the random forest classifier model\n",
    "clf.get_params()"
   ]
  },
  {
   "cell_type": "markdown",
   "id": "6cd513b8",
   "metadata": {},
   "source": [
    "These are the list of hyperparameters that can be used to adjust and implemented in the `GridSearchCV()` method"
   ]
  },
  {
   "cell_type": "code",
   "execution_count": 170,
   "id": "0f95cd35",
   "metadata": {},
   "outputs": [],
   "source": [
    "# First we will make a function that will evaluate the predictions with the model metrics \n",
    "def evaluate_preds(y_true, y_preds):\n",
    "    '''\n",
    "    Creating a predicted evaluation between y_true (y_val) with the y_preds (y_val_preds) using the scikit-learn model \n",
    "    evaluation metrics.\n",
    "    '''\n",
    "    # Define the evaluation metrics\n",
    "    accuracy = accuracy_score(y_true, y_preds)\n",
    "    precision = precision_score(y_true, y_preds)\n",
    "    recall = recall_score(y_true, y_preds)\n",
    "    f1 = f1_score(y_true, y_preds)\n",
    "    \n",
    "    metric_dict = {\n",
    "        ' accuracy' : round(accuracy, 2),\n",
    "        'precision' : round(precision, 2),\n",
    "        'recall' : round(recall, 2),\n",
    "        'f1' : round(f1, 2)\n",
    "    }\n",
    "    # Print the evaluation metrics\n",
    "    print(f'Acc:{accuracy * 100:.2f}%')\n",
    "    print(f'Precision:{precision:.2f}')\n",
    "    print(f'Recall:{recall :.2f}')\n",
    "    print(f'F1:{f1 :.2f}')\n",
    "    \n",
    "    return metric_dict"
   ]
  },
  {
   "cell_type": "code",
   "execution_count": 242,
   "id": "45f88bfd",
   "metadata": {},
   "outputs": [
    {
     "name": "stdout",
     "output_type": "stream",
     "text": [
      "Acc:81.01%\n",
      "Precision:0.82\n",
      "Recall:0.69\n",
      "F1:0.75\n"
     ]
    },
    {
     "data": {
      "text/plain": [
       "{' accuracy': 0.81, 'precision': 0.82, 'recall': 0.69, 'f1': 0.75}"
      ]
     },
     "execution_count": 242,
     "metadata": {},
     "output_type": "execute_result"
    }
   ],
   "source": [
    "# Make baseline predictions\n",
    "\n",
    "# Define the randomforestclassifier\n",
    "clf = RandomForestClassifier(random_state=42)\n",
    "\n",
    "# Fit the model on the training data\n",
    "clf.fit(X_train, y_train)\n",
    "\n",
    "# Make baseline predictions on validation data\n",
    "y_val_preds = clf.predict(X_val)\n",
    "\n",
    "# Evaluate the predictions\n",
    "baseline_metrics = evaluate_preds(y_val, y_val_preds)\n",
    "baseline_metrics"
   ]
  },
  {
   "cell_type": "code",
   "execution_count": 173,
   "id": "4fc39698",
   "metadata": {},
   "outputs": [
    {
     "data": {
      "text/plain": [
       "{'bootstrap': True,\n",
       " 'ccp_alpha': 0.0,\n",
       " 'class_weight': None,\n",
       " 'criterion': 'gini',\n",
       " 'max_depth': None,\n",
       " 'max_features': 'sqrt',\n",
       " 'max_leaf_nodes': None,\n",
       " 'max_samples': None,\n",
       " 'min_impurity_decrease': 0.0,\n",
       " 'min_samples_leaf': 1,\n",
       " 'min_samples_split': 2,\n",
       " 'min_weight_fraction_leaf': 0.0,\n",
       " 'n_estimators': 100,\n",
       " 'n_jobs': None,\n",
       " 'oob_score': False,\n",
       " 'random_state': 42,\n",
       " 'verbose': 0,\n",
       " 'warm_start': False}"
      ]
     },
     "execution_count": 173,
     "metadata": {},
     "output_type": "execute_result"
    }
   ],
   "source": [
    "# Get the parameters\n",
    "clf.get_params()"
   ]
  },
  {
   "cell_type": "code",
   "execution_count": 217,
   "id": "6cdb69b0",
   "metadata": {},
   "outputs": [],
   "source": [
    "# Create a dictionary of the parameters for grid search cv\n",
    "gs_grid = {\n",
    "    'n_estimators' : [100, 200, 500, 1000],\n",
    "    'max_depth' : [None],\n",
    "    'max_features' : ['sqrt', 'auto', 'log2']\n",
    "}"
   ]
  },
  {
   "cell_type": "code",
   "execution_count": 218,
   "id": "38656fec",
   "metadata": {},
   "outputs": [
    {
     "name": "stdout",
     "output_type": "stream",
     "text": [
      "Fitting 5 folds for each of 12 candidates, totalling 60 fits\n",
      "[CV] END max_depth=None, max_features=sqrt, n_estimators=100; total time=  45.2s\n",
      "[CV] END max_depth=None, max_features=sqrt, n_estimators=100; total time=   0.5s\n",
      "[CV] END max_depth=None, max_features=sqrt, n_estimators=100; total time=   0.6s\n",
      "[CV] END max_depth=None, max_features=sqrt, n_estimators=100; total time=   0.4s\n",
      "[CV] END max_depth=None, max_features=sqrt, n_estimators=100; total time=   0.6s\n",
      "[CV] END max_depth=None, max_features=sqrt, n_estimators=200; total time=   1.8s\n",
      "[CV] END max_depth=None, max_features=sqrt, n_estimators=200; total time=   2.1s\n",
      "[CV] END max_depth=None, max_features=sqrt, n_estimators=200; total time=   0.9s\n",
      "[CV] END max_depth=None, max_features=sqrt, n_estimators=200; total time=   0.8s\n",
      "[CV] END max_depth=None, max_features=sqrt, n_estimators=200; total time=   1.0s\n",
      "[CV] END max_depth=None, max_features=sqrt, n_estimators=500; total time=   2.5s\n",
      "[CV] END max_depth=None, max_features=sqrt, n_estimators=500; total time=   2.6s\n",
      "[CV] END max_depth=None, max_features=sqrt, n_estimators=500; total time=   2.1s\n",
      "[CV] END max_depth=None, max_features=sqrt, n_estimators=500; total time=   2.7s\n",
      "[CV] END max_depth=None, max_features=sqrt, n_estimators=500; total time=   2.0s\n",
      "[CV] END max_depth=None, max_features=sqrt, n_estimators=1000; total time=   4.3s\n",
      "[CV] END max_depth=None, max_features=sqrt, n_estimators=1000; total time=  32.1s\n",
      "[CV] END max_depth=None, max_features=sqrt, n_estimators=1000; total time=   3.9s\n",
      "[CV] END max_depth=None, max_features=sqrt, n_estimators=1000; total time=   4.1s\n",
      "[CV] END max_depth=None, max_features=sqrt, n_estimators=1000; total time=   4.1s\n"
     ]
    },
    {
     "name": "stderr",
     "output_type": "stream",
     "text": [
      "C:\\Users\\ahmed\\Desktop\\Machine-Learning-Course\\Titanic-Project\\env\\lib\\site-packages\\sklearn\\ensemble\\_forest.py:425: FutureWarning: `max_features='auto'` has been deprecated in 1.1 and will be removed in 1.3. To keep the past behaviour, explicitly set `max_features='sqrt'` or remove this parameter as it is also the default value for RandomForestClassifiers and ExtraTreesClassifiers.\n",
      "  warn(\n"
     ]
    },
    {
     "name": "stdout",
     "output_type": "stream",
     "text": [
      "[CV] END max_depth=None, max_features=auto, n_estimators=100; total time=   0.4s\n"
     ]
    },
    {
     "name": "stderr",
     "output_type": "stream",
     "text": [
      "C:\\Users\\ahmed\\Desktop\\Machine-Learning-Course\\Titanic-Project\\env\\lib\\site-packages\\sklearn\\ensemble\\_forest.py:425: FutureWarning: `max_features='auto'` has been deprecated in 1.1 and will be removed in 1.3. To keep the past behaviour, explicitly set `max_features='sqrt'` or remove this parameter as it is also the default value for RandomForestClassifiers and ExtraTreesClassifiers.\n",
      "  warn(\n"
     ]
    },
    {
     "name": "stdout",
     "output_type": "stream",
     "text": [
      "[CV] END max_depth=None, max_features=auto, n_estimators=100; total time=   0.3s\n"
     ]
    },
    {
     "name": "stderr",
     "output_type": "stream",
     "text": [
      "C:\\Users\\ahmed\\Desktop\\Machine-Learning-Course\\Titanic-Project\\env\\lib\\site-packages\\sklearn\\ensemble\\_forest.py:425: FutureWarning: `max_features='auto'` has been deprecated in 1.1 and will be removed in 1.3. To keep the past behaviour, explicitly set `max_features='sqrt'` or remove this parameter as it is also the default value for RandomForestClassifiers and ExtraTreesClassifiers.\n",
      "  warn(\n"
     ]
    },
    {
     "name": "stdout",
     "output_type": "stream",
     "text": [
      "[CV] END max_depth=None, max_features=auto, n_estimators=100; total time=   0.4s\n"
     ]
    },
    {
     "name": "stderr",
     "output_type": "stream",
     "text": [
      "C:\\Users\\ahmed\\Desktop\\Machine-Learning-Course\\Titanic-Project\\env\\lib\\site-packages\\sklearn\\ensemble\\_forest.py:425: FutureWarning: `max_features='auto'` has been deprecated in 1.1 and will be removed in 1.3. To keep the past behaviour, explicitly set `max_features='sqrt'` or remove this parameter as it is also the default value for RandomForestClassifiers and ExtraTreesClassifiers.\n",
      "  warn(\n"
     ]
    },
    {
     "name": "stdout",
     "output_type": "stream",
     "text": [
      "[CV] END max_depth=None, max_features=auto, n_estimators=100; total time=   0.4s\n"
     ]
    },
    {
     "name": "stderr",
     "output_type": "stream",
     "text": [
      "C:\\Users\\ahmed\\Desktop\\Machine-Learning-Course\\Titanic-Project\\env\\lib\\site-packages\\sklearn\\ensemble\\_forest.py:425: FutureWarning: `max_features='auto'` has been deprecated in 1.1 and will be removed in 1.3. To keep the past behaviour, explicitly set `max_features='sqrt'` or remove this parameter as it is also the default value for RandomForestClassifiers and ExtraTreesClassifiers.\n",
      "  warn(\n"
     ]
    },
    {
     "name": "stdout",
     "output_type": "stream",
     "text": [
      "[CV] END max_depth=None, max_features=auto, n_estimators=100; total time=   0.3s\n"
     ]
    },
    {
     "name": "stderr",
     "output_type": "stream",
     "text": [
      "C:\\Users\\ahmed\\Desktop\\Machine-Learning-Course\\Titanic-Project\\env\\lib\\site-packages\\sklearn\\ensemble\\_forest.py:425: FutureWarning: `max_features='auto'` has been deprecated in 1.1 and will be removed in 1.3. To keep the past behaviour, explicitly set `max_features='sqrt'` or remove this parameter as it is also the default value for RandomForestClassifiers and ExtraTreesClassifiers.\n",
      "  warn(\n"
     ]
    },
    {
     "name": "stdout",
     "output_type": "stream",
     "text": [
      "[CV] END max_depth=None, max_features=auto, n_estimators=200; total time=   0.7s\n"
     ]
    },
    {
     "name": "stderr",
     "output_type": "stream",
     "text": [
      "C:\\Users\\ahmed\\Desktop\\Machine-Learning-Course\\Titanic-Project\\env\\lib\\site-packages\\sklearn\\ensemble\\_forest.py:425: FutureWarning: `max_features='auto'` has been deprecated in 1.1 and will be removed in 1.3. To keep the past behaviour, explicitly set `max_features='sqrt'` or remove this parameter as it is also the default value for RandomForestClassifiers and ExtraTreesClassifiers.\n",
      "  warn(\n"
     ]
    },
    {
     "name": "stdout",
     "output_type": "stream",
     "text": [
      "[CV] END max_depth=None, max_features=auto, n_estimators=200; total time=   0.7s\n"
     ]
    },
    {
     "name": "stderr",
     "output_type": "stream",
     "text": [
      "C:\\Users\\ahmed\\Desktop\\Machine-Learning-Course\\Titanic-Project\\env\\lib\\site-packages\\sklearn\\ensemble\\_forest.py:425: FutureWarning: `max_features='auto'` has been deprecated in 1.1 and will be removed in 1.3. To keep the past behaviour, explicitly set `max_features='sqrt'` or remove this parameter as it is also the default value for RandomForestClassifiers and ExtraTreesClassifiers.\n",
      "  warn(\n"
     ]
    },
    {
     "name": "stdout",
     "output_type": "stream",
     "text": [
      "[CV] END max_depth=None, max_features=auto, n_estimators=200; total time=   0.8s\n"
     ]
    },
    {
     "name": "stderr",
     "output_type": "stream",
     "text": [
      "C:\\Users\\ahmed\\Desktop\\Machine-Learning-Course\\Titanic-Project\\env\\lib\\site-packages\\sklearn\\ensemble\\_forest.py:425: FutureWarning: `max_features='auto'` has been deprecated in 1.1 and will be removed in 1.3. To keep the past behaviour, explicitly set `max_features='sqrt'` or remove this parameter as it is also the default value for RandomForestClassifiers and ExtraTreesClassifiers.\n",
      "  warn(\n"
     ]
    },
    {
     "name": "stdout",
     "output_type": "stream",
     "text": [
      "[CV] END max_depth=None, max_features=auto, n_estimators=200; total time=   0.7s\n"
     ]
    },
    {
     "name": "stderr",
     "output_type": "stream",
     "text": [
      "C:\\Users\\ahmed\\Desktop\\Machine-Learning-Course\\Titanic-Project\\env\\lib\\site-packages\\sklearn\\ensemble\\_forest.py:425: FutureWarning: `max_features='auto'` has been deprecated in 1.1 and will be removed in 1.3. To keep the past behaviour, explicitly set `max_features='sqrt'` or remove this parameter as it is also the default value for RandomForestClassifiers and ExtraTreesClassifiers.\n",
      "  warn(\n"
     ]
    },
    {
     "name": "stdout",
     "output_type": "stream",
     "text": [
      "[CV] END max_depth=None, max_features=auto, n_estimators=200; total time=   0.8s\n"
     ]
    },
    {
     "name": "stderr",
     "output_type": "stream",
     "text": [
      "C:\\Users\\ahmed\\Desktop\\Machine-Learning-Course\\Titanic-Project\\env\\lib\\site-packages\\sklearn\\ensemble\\_forest.py:425: FutureWarning: `max_features='auto'` has been deprecated in 1.1 and will be removed in 1.3. To keep the past behaviour, explicitly set `max_features='sqrt'` or remove this parameter as it is also the default value for RandomForestClassifiers and ExtraTreesClassifiers.\n",
      "  warn(\n"
     ]
    },
    {
     "name": "stdout",
     "output_type": "stream",
     "text": [
      "[CV] END max_depth=None, max_features=auto, n_estimators=500; total time=   2.6s\n"
     ]
    },
    {
     "name": "stderr",
     "output_type": "stream",
     "text": [
      "C:\\Users\\ahmed\\Desktop\\Machine-Learning-Course\\Titanic-Project\\env\\lib\\site-packages\\sklearn\\ensemble\\_forest.py:425: FutureWarning: `max_features='auto'` has been deprecated in 1.1 and will be removed in 1.3. To keep the past behaviour, explicitly set `max_features='sqrt'` or remove this parameter as it is also the default value for RandomForestClassifiers and ExtraTreesClassifiers.\n",
      "  warn(\n"
     ]
    },
    {
     "name": "stdout",
     "output_type": "stream",
     "text": [
      "[CV] END max_depth=None, max_features=auto, n_estimators=500; total time=   2.3s\n"
     ]
    },
    {
     "name": "stderr",
     "output_type": "stream",
     "text": [
      "C:\\Users\\ahmed\\Desktop\\Machine-Learning-Course\\Titanic-Project\\env\\lib\\site-packages\\sklearn\\ensemble\\_forest.py:425: FutureWarning: `max_features='auto'` has been deprecated in 1.1 and will be removed in 1.3. To keep the past behaviour, explicitly set `max_features='sqrt'` or remove this parameter as it is also the default value for RandomForestClassifiers and ExtraTreesClassifiers.\n",
      "  warn(\n"
     ]
    },
    {
     "name": "stdout",
     "output_type": "stream",
     "text": [
      "[CV] END max_depth=None, max_features=auto, n_estimators=500; total time=   2.4s\n"
     ]
    },
    {
     "name": "stderr",
     "output_type": "stream",
     "text": [
      "C:\\Users\\ahmed\\Desktop\\Machine-Learning-Course\\Titanic-Project\\env\\lib\\site-packages\\sklearn\\ensemble\\_forest.py:425: FutureWarning: `max_features='auto'` has been deprecated in 1.1 and will be removed in 1.3. To keep the past behaviour, explicitly set `max_features='sqrt'` or remove this parameter as it is also the default value for RandomForestClassifiers and ExtraTreesClassifiers.\n",
      "  warn(\n"
     ]
    },
    {
     "name": "stdout",
     "output_type": "stream",
     "text": [
      "[CV] END max_depth=None, max_features=auto, n_estimators=500; total time=   2.4s\n"
     ]
    },
    {
     "name": "stderr",
     "output_type": "stream",
     "text": [
      "C:\\Users\\ahmed\\Desktop\\Machine-Learning-Course\\Titanic-Project\\env\\lib\\site-packages\\sklearn\\ensemble\\_forest.py:425: FutureWarning: `max_features='auto'` has been deprecated in 1.1 and will be removed in 1.3. To keep the past behaviour, explicitly set `max_features='sqrt'` or remove this parameter as it is also the default value for RandomForestClassifiers and ExtraTreesClassifiers.\n",
      "  warn(\n"
     ]
    },
    {
     "name": "stdout",
     "output_type": "stream",
     "text": [
      "[CV] END max_depth=None, max_features=auto, n_estimators=500; total time=   2.5s\n"
     ]
    },
    {
     "name": "stderr",
     "output_type": "stream",
     "text": [
      "C:\\Users\\ahmed\\Desktop\\Machine-Learning-Course\\Titanic-Project\\env\\lib\\site-packages\\sklearn\\ensemble\\_forest.py:425: FutureWarning: `max_features='auto'` has been deprecated in 1.1 and will be removed in 1.3. To keep the past behaviour, explicitly set `max_features='sqrt'` or remove this parameter as it is also the default value for RandomForestClassifiers and ExtraTreesClassifiers.\n",
      "  warn(\n"
     ]
    },
    {
     "name": "stdout",
     "output_type": "stream",
     "text": [
      "[CV] END max_depth=None, max_features=auto, n_estimators=1000; total time=   4.3s\n"
     ]
    },
    {
     "name": "stderr",
     "output_type": "stream",
     "text": [
      "C:\\Users\\ahmed\\Desktop\\Machine-Learning-Course\\Titanic-Project\\env\\lib\\site-packages\\sklearn\\ensemble\\_forest.py:425: FutureWarning: `max_features='auto'` has been deprecated in 1.1 and will be removed in 1.3. To keep the past behaviour, explicitly set `max_features='sqrt'` or remove this parameter as it is also the default value for RandomForestClassifiers and ExtraTreesClassifiers.\n",
      "  warn(\n"
     ]
    },
    {
     "name": "stdout",
     "output_type": "stream",
     "text": [
      "[CV] END max_depth=None, max_features=auto, n_estimators=1000; total time=   4.6s\n"
     ]
    },
    {
     "name": "stderr",
     "output_type": "stream",
     "text": [
      "C:\\Users\\ahmed\\Desktop\\Machine-Learning-Course\\Titanic-Project\\env\\lib\\site-packages\\sklearn\\ensemble\\_forest.py:425: FutureWarning: `max_features='auto'` has been deprecated in 1.1 and will be removed in 1.3. To keep the past behaviour, explicitly set `max_features='sqrt'` or remove this parameter as it is also the default value for RandomForestClassifiers and ExtraTreesClassifiers.\n",
      "  warn(\n"
     ]
    },
    {
     "name": "stdout",
     "output_type": "stream",
     "text": [
      "[CV] END max_depth=None, max_features=auto, n_estimators=1000; total time=   4.0s\n"
     ]
    },
    {
     "name": "stderr",
     "output_type": "stream",
     "text": [
      "C:\\Users\\ahmed\\Desktop\\Machine-Learning-Course\\Titanic-Project\\env\\lib\\site-packages\\sklearn\\ensemble\\_forest.py:425: FutureWarning: `max_features='auto'` has been deprecated in 1.1 and will be removed in 1.3. To keep the past behaviour, explicitly set `max_features='sqrt'` or remove this parameter as it is also the default value for RandomForestClassifiers and ExtraTreesClassifiers.\n",
      "  warn(\n"
     ]
    },
    {
     "name": "stdout",
     "output_type": "stream",
     "text": [
      "[CV] END max_depth=None, max_features=auto, n_estimators=1000; total time=   4.1s\n"
     ]
    },
    {
     "name": "stderr",
     "output_type": "stream",
     "text": [
      "C:\\Users\\ahmed\\Desktop\\Machine-Learning-Course\\Titanic-Project\\env\\lib\\site-packages\\sklearn\\ensemble\\_forest.py:425: FutureWarning: `max_features='auto'` has been deprecated in 1.1 and will be removed in 1.3. To keep the past behaviour, explicitly set `max_features='sqrt'` or remove this parameter as it is also the default value for RandomForestClassifiers and ExtraTreesClassifiers.\n",
      "  warn(\n"
     ]
    },
    {
     "name": "stdout",
     "output_type": "stream",
     "text": [
      "[CV] END max_depth=None, max_features=auto, n_estimators=1000; total time=   4.7s\n",
      "[CV] END max_depth=None, max_features=log2, n_estimators=100; total time=   0.4s\n",
      "[CV] END max_depth=None, max_features=log2, n_estimators=100; total time=   0.4s\n",
      "[CV] END max_depth=None, max_features=log2, n_estimators=100; total time=   0.7s\n",
      "[CV] END max_depth=None, max_features=log2, n_estimators=100; total time=   0.6s\n",
      "[CV] END max_depth=None, max_features=log2, n_estimators=100; total time=   0.4s\n",
      "[CV] END max_depth=None, max_features=log2, n_estimators=200; total time=   0.9s\n",
      "[CV] END max_depth=None, max_features=log2, n_estimators=200; total time=   0.9s\n",
      "[CV] END max_depth=None, max_features=log2, n_estimators=200; total time=   1.0s\n",
      "[CV] END max_depth=None, max_features=log2, n_estimators=200; total time=   0.9s\n",
      "[CV] END max_depth=None, max_features=log2, n_estimators=200; total time=   0.8s\n",
      "[CV] END max_depth=None, max_features=log2, n_estimators=500; total time=   2.2s\n",
      "[CV] END max_depth=None, max_features=log2, n_estimators=500; total time=   2.0s\n",
      "[CV] END max_depth=None, max_features=log2, n_estimators=500; total time=   2.0s\n",
      "[CV] END max_depth=None, max_features=log2, n_estimators=500; total time=   2.0s\n",
      "[CV] END max_depth=None, max_features=log2, n_estimators=500; total time=   2.3s\n",
      "[CV] END max_depth=None, max_features=log2, n_estimators=1000; total time=   5.0s\n",
      "[CV] END max_depth=None, max_features=log2, n_estimators=1000; total time=   4.4s\n",
      "[CV] END max_depth=None, max_features=log2, n_estimators=1000; total time=   4.3s\n",
      "[CV] END max_depth=None, max_features=log2, n_estimators=1000; total time=   4.0s\n",
      "[CV] END max_depth=None, max_features=log2, n_estimators=1000; total time=   4.4s\n"
     ]
    },
    {
     "data": {
      "text/html": [
       "<style>#sk-container-id-7 {color: black;background-color: white;}#sk-container-id-7 pre{padding: 0;}#sk-container-id-7 div.sk-toggleable {background-color: white;}#sk-container-id-7 label.sk-toggleable__label {cursor: pointer;display: block;width: 100%;margin-bottom: 0;padding: 0.3em;box-sizing: border-box;text-align: center;}#sk-container-id-7 label.sk-toggleable__label-arrow:before {content: \"▸\";float: left;margin-right: 0.25em;color: #696969;}#sk-container-id-7 label.sk-toggleable__label-arrow:hover:before {color: black;}#sk-container-id-7 div.sk-estimator:hover label.sk-toggleable__label-arrow:before {color: black;}#sk-container-id-7 div.sk-toggleable__content {max-height: 0;max-width: 0;overflow: hidden;text-align: left;background-color: #f0f8ff;}#sk-container-id-7 div.sk-toggleable__content pre {margin: 0.2em;color: black;border-radius: 0.25em;background-color: #f0f8ff;}#sk-container-id-7 input.sk-toggleable__control:checked~div.sk-toggleable__content {max-height: 200px;max-width: 100%;overflow: auto;}#sk-container-id-7 input.sk-toggleable__control:checked~label.sk-toggleable__label-arrow:before {content: \"▾\";}#sk-container-id-7 div.sk-estimator input.sk-toggleable__control:checked~label.sk-toggleable__label {background-color: #d4ebff;}#sk-container-id-7 div.sk-label input.sk-toggleable__control:checked~label.sk-toggleable__label {background-color: #d4ebff;}#sk-container-id-7 input.sk-hidden--visually {border: 0;clip: rect(1px 1px 1px 1px);clip: rect(1px, 1px, 1px, 1px);height: 1px;margin: -1px;overflow: hidden;padding: 0;position: absolute;width: 1px;}#sk-container-id-7 div.sk-estimator {font-family: monospace;background-color: #f0f8ff;border: 1px dotted black;border-radius: 0.25em;box-sizing: border-box;margin-bottom: 0.5em;}#sk-container-id-7 div.sk-estimator:hover {background-color: #d4ebff;}#sk-container-id-7 div.sk-parallel-item::after {content: \"\";width: 100%;border-bottom: 1px solid gray;flex-grow: 1;}#sk-container-id-7 div.sk-label:hover label.sk-toggleable__label {background-color: #d4ebff;}#sk-container-id-7 div.sk-serial::before {content: \"\";position: absolute;border-left: 1px solid gray;box-sizing: border-box;top: 0;bottom: 0;left: 50%;z-index: 0;}#sk-container-id-7 div.sk-serial {display: flex;flex-direction: column;align-items: center;background-color: white;padding-right: 0.2em;padding-left: 0.2em;position: relative;}#sk-container-id-7 div.sk-item {position: relative;z-index: 1;}#sk-container-id-7 div.sk-parallel {display: flex;align-items: stretch;justify-content: center;background-color: white;position: relative;}#sk-container-id-7 div.sk-item::before, #sk-container-id-7 div.sk-parallel-item::before {content: \"\";position: absolute;border-left: 1px solid gray;box-sizing: border-box;top: 0;bottom: 0;left: 50%;z-index: -1;}#sk-container-id-7 div.sk-parallel-item {display: flex;flex-direction: column;z-index: 1;position: relative;background-color: white;}#sk-container-id-7 div.sk-parallel-item:first-child::after {align-self: flex-end;width: 50%;}#sk-container-id-7 div.sk-parallel-item:last-child::after {align-self: flex-start;width: 50%;}#sk-container-id-7 div.sk-parallel-item:only-child::after {width: 0;}#sk-container-id-7 div.sk-dashed-wrapped {border: 1px dashed gray;margin: 0 0.4em 0.5em 0.4em;box-sizing: border-box;padding-bottom: 0.4em;background-color: white;}#sk-container-id-7 div.sk-label label {font-family: monospace;font-weight: bold;display: inline-block;line-height: 1.2em;}#sk-container-id-7 div.sk-label-container {text-align: center;}#sk-container-id-7 div.sk-container {/* jupyter's `normalize.less` sets `[hidden] { display: none; }` but bootstrap.min.css set `[hidden] { display: none !important; }` so we also need the `!important` here to be able to override the default hidden behavior on the sphinx rendered scikit-learn.org. See: https://github.com/scikit-learn/scikit-learn/issues/21755 */display: inline-block !important;position: relative;}#sk-container-id-7 div.sk-text-repr-fallback {display: none;}</style><div id=\"sk-container-id-7\" class=\"sk-top-container\"><div class=\"sk-text-repr-fallback\"><pre>GridSearchCV(cv=5, estimator=RandomForestClassifier(n_jobs=-1, random_state=42),\n",
       "             param_grid={&#x27;max_depth&#x27;: [None],\n",
       "                         &#x27;max_features&#x27;: [&#x27;sqrt&#x27;, &#x27;auto&#x27;, &#x27;log2&#x27;],\n",
       "                         &#x27;n_estimators&#x27;: [100, 200, 500, 1000]},\n",
       "             verbose=2)</pre><b>In a Jupyter environment, please rerun this cell to show the HTML representation or trust the notebook. <br />On GitHub, the HTML representation is unable to render, please try loading this page with nbviewer.org.</b></div><div class=\"sk-container\" hidden><div class=\"sk-item sk-dashed-wrapped\"><div class=\"sk-label-container\"><div class=\"sk-label sk-toggleable\"><input class=\"sk-toggleable__control sk-hidden--visually\" id=\"sk-estimator-id-17\" type=\"checkbox\" ><label for=\"sk-estimator-id-17\" class=\"sk-toggleable__label sk-toggleable__label-arrow\">GridSearchCV</label><div class=\"sk-toggleable__content\"><pre>GridSearchCV(cv=5, estimator=RandomForestClassifier(n_jobs=-1, random_state=42),\n",
       "             param_grid={&#x27;max_depth&#x27;: [None],\n",
       "                         &#x27;max_features&#x27;: [&#x27;sqrt&#x27;, &#x27;auto&#x27;, &#x27;log2&#x27;],\n",
       "                         &#x27;n_estimators&#x27;: [100, 200, 500, 1000]},\n",
       "             verbose=2)</pre></div></div></div><div class=\"sk-parallel\"><div class=\"sk-parallel-item\"><div class=\"sk-item\"><div class=\"sk-label-container\"><div class=\"sk-label sk-toggleable\"><input class=\"sk-toggleable__control sk-hidden--visually\" id=\"sk-estimator-id-18\" type=\"checkbox\" ><label for=\"sk-estimator-id-18\" class=\"sk-toggleable__label sk-toggleable__label-arrow\">estimator: RandomForestClassifier</label><div class=\"sk-toggleable__content\"><pre>RandomForestClassifier(n_jobs=-1, random_state=42)</pre></div></div></div><div class=\"sk-serial\"><div class=\"sk-item\"><div class=\"sk-estimator sk-toggleable\"><input class=\"sk-toggleable__control sk-hidden--visually\" id=\"sk-estimator-id-19\" type=\"checkbox\" ><label for=\"sk-estimator-id-19\" class=\"sk-toggleable__label sk-toggleable__label-arrow\">RandomForestClassifier</label><div class=\"sk-toggleable__content\"><pre>RandomForestClassifier(n_jobs=-1, random_state=42)</pre></div></div></div></div></div></div></div></div></div></div>"
      ],
      "text/plain": [
       "GridSearchCV(cv=5, estimator=RandomForestClassifier(n_jobs=-1, random_state=42),\n",
       "             param_grid={'max_depth': [None],\n",
       "                         'max_features': ['sqrt', 'auto', 'log2'],\n",
       "                         'n_estimators': [100, 200, 500, 1000]},\n",
       "             verbose=2)"
      ]
     },
     "execution_count": 218,
     "metadata": {},
     "output_type": "execute_result"
    }
   ],
   "source": [
    "# Now use the classifier grid in the grid search cv that is already imported\n",
    "\n",
    "# Define the new random forest classifier model\n",
    "clf = RandomForestClassifier(random_state = 42, n_jobs = -1)\n",
    "\n",
    "# Use the grid search cv\n",
    "gs_clf = GridSearchCV(estimator = clf,\n",
    "                        param_grid = gs_grid,\n",
    "                        cv = 5,\n",
    "                        verbose = 2)\n",
    "\n",
    "# Fit the model on the training data\n",
    "gs_clf.fit(X_train, y_train)"
   ]
  },
  {
   "cell_type": "code",
   "execution_count": 219,
   "id": "ece96a3b",
   "metadata": {},
   "outputs": [
    {
     "data": {
      "text/plain": [
       "{'max_depth': None, 'max_features': 'sqrt', 'n_estimators': 100}"
      ]
     },
     "execution_count": 219,
     "metadata": {},
     "output_type": "execute_result"
    }
   ],
   "source": [
    "# Find the best hyperparameters\n",
    "gs_clf.best_params_"
   ]
  },
  {
   "cell_type": "code",
   "execution_count": 220,
   "id": "7694401e",
   "metadata": {},
   "outputs": [
    {
     "name": "stdout",
     "output_type": "stream",
     "text": [
      "Acc:81.01%\n",
      "Precision:0.82\n",
      "Recall:0.69\n",
      "F1:0.75\n"
     ]
    }
   ],
   "source": [
    "# Define X_test \n",
    "X_test = transformed_passenger_data_test_df_copy.toarray()\n",
    "\n",
    "# Create y_test by making predictions on the X_test\n",
    "y_test = gs_clf.predict(X_test)\n",
    "\n",
    "# Predictions on the validation data\n",
    "y_val_preds = gs_clf.predict(X_val)\n",
    "\n",
    "gs_clf.score(X_val, y_val_preds)\n",
    "# Make the evaluation on the test data\n",
    "gs_metrics = evaluate_preds(y_val, y_val_preds)"
   ]
  },
  {
   "cell_type": "code",
   "execution_count": 221,
   "id": "480f962d",
   "metadata": {},
   "outputs": [
    {
     "data": {
      "text/plain": [
       "0.8100558659217877"
      ]
     },
     "execution_count": 221,
     "metadata": {},
     "output_type": "execute_result"
    }
   ],
   "source": [
    "# score it on the test data\n",
    "gs_clf.score(X_val, y_val)"
   ]
  },
  {
   "cell_type": "markdown",
   "id": "98c56228",
   "metadata": {},
   "source": [
    "Compare the baseline metrics with the grid search metrics"
   ]
  },
  {
   "cell_type": "code",
   "execution_count": 236,
   "id": "889c68d4",
   "metadata": {},
   "outputs": [
    {
     "data": {
      "image/png": "[encoded data removed]",
      "text/plain": [
       "<Figure size 640x480 with 1 Axes>"
      ]
     },
     "metadata": {},
     "output_type": "display_data"
    }
   ],
   "source": [
    "# Make comparisons\n",
    "\n",
    "compare_metrics = pd.DataFrame({\n",
    "    'baseline_metrics' : baseline_metrics,\n",
    "    'gs_metrics' : gs_metrics,\n",
    "})\n",
    "\n",
    "compare_metrics.plot(kind = 'bar');"
   ]
  },
  {
   "cell_type": "markdown",
   "id": "a7a1eff0",
   "metadata": {},
   "source": [
    "## 6.1 Submission\n",
    "\n",
    "Put it in the right format. Have PassengerID and the Survived columns"
   ]
  },
  {
   "cell_type": "code",
   "execution_count": 240,
   "id": "7725908f",
   "metadata": {},
   "outputs": [
    {
     "data": {
      "text/plain": [
       "array([[0.    , 0.    , 0.    , ..., 0.    , 0.    , 7.8292]])"
      ]
     },
     "execution_count": 240,
     "metadata": {},
     "output_type": "execute_result"
    }
   ],
   "source": [
    "transformed_passenger_data_test_df_copy.toarray()"
   ]
  },
  {
   "cell_type": "code",
   "execution_count": 247,
   "id": "2be13ce3",
   "metadata": {},
   "outputs": [
    {
     "data": {
      "text/html": [
       "<div>\n",
       "<style scoped>\n",
       "    .dataframe tbody tr th:only-of-type {\n",
       "        vertical-align: middle;\n",
       "    }\n",
       "\n",
       "    .dataframe tbody tr th {\n",
       "        vertical-align: top;\n",
       "    }\n",
       "\n",
       "    .dataframe thead th {\n",
       "        text-align: right;\n",
       "    }\n",
       "</style>\n",
       "<table border=\"1\" class=\"dataframe\">\n",
       "  <thead>\n",
       "    <tr style=\"text-align: right;\">\n",
       "      <th></th>\n",
       "      <th>PassengerId</th>\n",
       "      <th>Survived</th>\n",
       "    </tr>\n",
       "  </thead>\n",
       "  <tbody>\n",
       "    <tr>\n",
       "      <th>0</th>\n",
       "      <td>892</td>\n",
       "      <td>0</td>\n",
       "    </tr>\n",
       "    <tr>\n",
       "      <th>1</th>\n",
       "      <td>893</td>\n",
       "      <td>0</td>\n",
       "    </tr>\n",
       "    <tr>\n",
       "      <th>2</th>\n",
       "      <td>894</td>\n",
       "      <td>0</td>\n",
       "    </tr>\n",
       "    <tr>\n",
       "      <th>3</th>\n",
       "      <td>895</td>\n",
       "      <td>0</td>\n",
       "    </tr>\n",
       "    <tr>\n",
       "      <th>4</th>\n",
       "      <td>896</td>\n",
       "      <td>0</td>\n",
       "    </tr>\n",
       "    <tr>\n",
       "      <th>...</th>\n",
       "      <td>...</td>\n",
       "      <td>...</td>\n",
       "    </tr>\n",
       "    <tr>\n",
       "      <th>413</th>\n",
       "      <td>1305</td>\n",
       "      <td>0</td>\n",
       "    </tr>\n",
       "    <tr>\n",
       "      <th>414</th>\n",
       "      <td>1306</td>\n",
       "      <td>1</td>\n",
       "    </tr>\n",
       "    <tr>\n",
       "      <th>415</th>\n",
       "      <td>1307</td>\n",
       "      <td>0</td>\n",
       "    </tr>\n",
       "    <tr>\n",
       "      <th>416</th>\n",
       "      <td>1308</td>\n",
       "      <td>0</td>\n",
       "    </tr>\n",
       "    <tr>\n",
       "      <th>417</th>\n",
       "      <td>1309</td>\n",
       "      <td>0</td>\n",
       "    </tr>\n",
       "  </tbody>\n",
       "</table>\n",
       "<p>418 rows × 2 columns</p>\n",
       "</div>"
      ],
      "text/plain": [
       "     PassengerId  Survived\n",
       "0            892         0\n",
       "1            893         0\n",
       "2            894         0\n",
       "3            895         0\n",
       "4            896         0\n",
       "..           ...       ...\n",
       "413         1305         0\n",
       "414         1306         1\n",
       "415         1307         0\n",
       "416         1308         0\n",
       "417         1309         0\n",
       "\n",
       "[418 rows x 2 columns]"
      ]
     },
     "execution_count": 247,
     "metadata": {},
     "output_type": "execute_result"
    }
   ],
   "source": [
    "# Create a submission dataframe\n",
    "submission_project = pd.DataFrame()\n",
    "\n",
    "# Store the PassengerID from the test data in the dataframe\n",
    "submission_project['PassengerId'] = passenger_data_test_df_copy['PassengerId']\n",
    "\n",
    "# Store survived column by making predictions on the transformed test data in the dataframe\n",
    "submission_project['Survived'] = clf.predict(transformed_passenger_data_test_df_copy.toarray())\n",
    "\n",
    "# Check it out\n",
    "submission_project"
   ]
  },
  {
   "cell_type": "markdown",
   "id": "8cc805b9",
   "metadata": {},
   "source": [
    "## 7.0 Save the project"
   ]
  },
  {
   "cell_type": "code",
   "execution_count": 249,
   "id": "8253f6fb",
   "metadata": {},
   "outputs": [],
   "source": [
    "# Export the submission project into a csv file\n",
    "submission_project.to_csv(\"Data/submission-project.csv\", index = False)"
   ]
  }
 ],
 "metadata": {
  "kernelspec": {
   "display_name": "Python 3 (ipykernel)",
   "language": "python",
   "name": "python3"
  },
  "language_info": {
   "codemirror_mode": {
    "name": "ipython",
    "version": 3
   },
   "file_extension": ".py",
   "mimetype": "text/x-python",
   "name": "python",
   "nbconvert_exporter": "python",
   "pygments_lexer": "ipython3",
   "version": "3.10.9"
  }
 },
 "nbformat": 4,
 "nbformat_minor": 5
}
